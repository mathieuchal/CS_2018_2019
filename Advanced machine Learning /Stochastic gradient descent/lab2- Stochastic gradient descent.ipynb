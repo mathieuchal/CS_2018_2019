{
 "cells": [
  {
   "cell_type": "markdown",
   "metadata": {},
   "source": [
    "# Lab 2: Stochastic Gradient Descent (simpler and correct structure version)"
   ]
  },
  {
   "cell_type": "markdown",
   "metadata": {},
   "source": [
    "The goal of this lab session is to code an optimization algorithm that optimzes the penalized loss function of the logistic regression model.\n",
    "\n",
    "You have to send the filled notebook named **\"L2_familyname1_familyname2.ipynb\"** by email to *violeta.roizman@l2s.centralesupelec.fr* by October 10, 2018. Please put **\"AML-L2\"** in the subject. \n",
    "\n",
    "We begin with the standard imports:"
   ]
  },
  {
   "cell_type": "code",
   "execution_count": 5,
   "metadata": {
    "collapsed": true
   },
   "outputs": [],
   "source": [
    "%matplotlib inline\n",
    "import matplotlib.pyplot as plt\n",
    "import seaborn as sns; sns.set()\n",
    "import numpy as np\n",
    "import pandas as pd\n",
    "import os\n",
    "import time"
   ]
  },
  {
   "cell_type": "markdown",
   "metadata": {},
   "source": [
    "We are going to use the W8A dataset, a tidy and binarized version of https://archive.ics.uci.edu/ml/datasets/adult (check it out for more details). \n",
    "In this dataset we have census data to predict if the income of an adult exceeds $50K/yr (1 or -1).  "
   ]
  },
  {
   "cell_type": "code",
   "execution_count": 6,
   "metadata": {
    "collapsed": false
   },
   "outputs": [
    {
     "name": "stdout",
     "output_type": "stream",
     "text": [
      "('shape: ', (49748, 301))\n"
     ]
    },
    {
     "data": {
      "text/html": [
       "<div>\n",
       "<style scoped>\n",
       "    .dataframe tbody tr th:only-of-type {\n",
       "        vertical-align: middle;\n",
       "    }\n",
       "\n",
       "    .dataframe tbody tr th {\n",
       "        vertical-align: top;\n",
       "    }\n",
       "\n",
       "    .dataframe thead th {\n",
       "        text-align: right;\n",
       "    }\n",
       "</style>\n",
       "<table border=\"1\" class=\"dataframe\">\n",
       "  <thead>\n",
       "    <tr style=\"text-align: right;\">\n",
       "      <th></th>\n",
       "      <th>0.0</th>\n",
       "      <th>0.0.1</th>\n",
       "      <th>0.0.2</th>\n",
       "      <th>0.0.3</th>\n",
       "      <th>0.0.4</th>\n",
       "      <th>0.0.5</th>\n",
       "      <th>0.0.6</th>\n",
       "      <th>0.0.7</th>\n",
       "      <th>0.0.8</th>\n",
       "      <th>0.0.9</th>\n",
       "      <th>...</th>\n",
       "      <th>0.0.287</th>\n",
       "      <th>0.0.288</th>\n",
       "      <th>0.0.289</th>\n",
       "      <th>0.0.290</th>\n",
       "      <th>0.0.291</th>\n",
       "      <th>0.0.292</th>\n",
       "      <th>0.0.293</th>\n",
       "      <th>0.0.294</th>\n",
       "      <th>0.0.295</th>\n",
       "      <th>-1</th>\n",
       "    </tr>\n",
       "  </thead>\n",
       "  <tbody>\n",
       "    <tr>\n",
       "      <th>0</th>\n",
       "      <td>0.0</td>\n",
       "      <td>0.0</td>\n",
       "      <td>0.0</td>\n",
       "      <td>0.0</td>\n",
       "      <td>0.0</td>\n",
       "      <td>0.0</td>\n",
       "      <td>0.0</td>\n",
       "      <td>0.0</td>\n",
       "      <td>0.0</td>\n",
       "      <td>0.0</td>\n",
       "      <td>...</td>\n",
       "      <td>0.0</td>\n",
       "      <td>0.0</td>\n",
       "      <td>0.0</td>\n",
       "      <td>0.0</td>\n",
       "      <td>0.0</td>\n",
       "      <td>0.0</td>\n",
       "      <td>0.0</td>\n",
       "      <td>0.0</td>\n",
       "      <td>0.0</td>\n",
       "      <td>-1</td>\n",
       "    </tr>\n",
       "    <tr>\n",
       "      <th>1</th>\n",
       "      <td>0.0</td>\n",
       "      <td>0.0</td>\n",
       "      <td>0.0</td>\n",
       "      <td>0.0</td>\n",
       "      <td>0.0</td>\n",
       "      <td>0.0</td>\n",
       "      <td>0.0</td>\n",
       "      <td>0.0</td>\n",
       "      <td>0.0</td>\n",
       "      <td>0.0</td>\n",
       "      <td>...</td>\n",
       "      <td>0.0</td>\n",
       "      <td>0.0</td>\n",
       "      <td>0.0</td>\n",
       "      <td>0.0</td>\n",
       "      <td>0.0</td>\n",
       "      <td>0.0</td>\n",
       "      <td>0.0</td>\n",
       "      <td>0.0</td>\n",
       "      <td>0.0</td>\n",
       "      <td>-1</td>\n",
       "    </tr>\n",
       "    <tr>\n",
       "      <th>2</th>\n",
       "      <td>0.0</td>\n",
       "      <td>0.0</td>\n",
       "      <td>0.0</td>\n",
       "      <td>0.0</td>\n",
       "      <td>0.0</td>\n",
       "      <td>0.0</td>\n",
       "      <td>0.0</td>\n",
       "      <td>0.0</td>\n",
       "      <td>0.0</td>\n",
       "      <td>0.0</td>\n",
       "      <td>...</td>\n",
       "      <td>0.0</td>\n",
       "      <td>0.0</td>\n",
       "      <td>0.0</td>\n",
       "      <td>0.0</td>\n",
       "      <td>0.0</td>\n",
       "      <td>0.0</td>\n",
       "      <td>0.0</td>\n",
       "      <td>0.0</td>\n",
       "      <td>0.0</td>\n",
       "      <td>-1</td>\n",
       "    </tr>\n",
       "    <tr>\n",
       "      <th>3</th>\n",
       "      <td>0.0</td>\n",
       "      <td>0.0</td>\n",
       "      <td>0.0</td>\n",
       "      <td>0.0</td>\n",
       "      <td>0.0</td>\n",
       "      <td>0.0</td>\n",
       "      <td>0.0</td>\n",
       "      <td>0.0</td>\n",
       "      <td>0.0</td>\n",
       "      <td>0.0</td>\n",
       "      <td>...</td>\n",
       "      <td>0.0</td>\n",
       "      <td>0.0</td>\n",
       "      <td>0.0</td>\n",
       "      <td>0.0</td>\n",
       "      <td>0.0</td>\n",
       "      <td>0.0</td>\n",
       "      <td>1.0</td>\n",
       "      <td>0.0</td>\n",
       "      <td>0.0</td>\n",
       "      <td>-1</td>\n",
       "    </tr>\n",
       "    <tr>\n",
       "      <th>4</th>\n",
       "      <td>0.0</td>\n",
       "      <td>0.0</td>\n",
       "      <td>0.0</td>\n",
       "      <td>0.0</td>\n",
       "      <td>0.0</td>\n",
       "      <td>0.0</td>\n",
       "      <td>0.0</td>\n",
       "      <td>0.0</td>\n",
       "      <td>0.0</td>\n",
       "      <td>0.0</td>\n",
       "      <td>...</td>\n",
       "      <td>0.0</td>\n",
       "      <td>0.0</td>\n",
       "      <td>0.0</td>\n",
       "      <td>0.0</td>\n",
       "      <td>0.0</td>\n",
       "      <td>0.0</td>\n",
       "      <td>0.0</td>\n",
       "      <td>0.0</td>\n",
       "      <td>0.0</td>\n",
       "      <td>-1</td>\n",
       "    </tr>\n",
       "  </tbody>\n",
       "</table>\n",
       "<p>5 rows × 301 columns</p>\n",
       "</div>"
      ],
      "text/plain": [
       "   0.0  0.0.1  0.0.2  0.0.3  0.0.4  0.0.5  0.0.6  0.0.7  0.0.8  0.0.9 ...  \\\n",
       "0  0.0    0.0    0.0    0.0    0.0    0.0    0.0    0.0    0.0    0.0 ...   \n",
       "1  0.0    0.0    0.0    0.0    0.0    0.0    0.0    0.0    0.0    0.0 ...   \n",
       "2  0.0    0.0    0.0    0.0    0.0    0.0    0.0    0.0    0.0    0.0 ...   \n",
       "3  0.0    0.0    0.0    0.0    0.0    0.0    0.0    0.0    0.0    0.0 ...   \n",
       "4  0.0    0.0    0.0    0.0    0.0    0.0    0.0    0.0    0.0    0.0 ...   \n",
       "\n",
       "   0.0.287  0.0.288  0.0.289  0.0.290  0.0.291  0.0.292  0.0.293  0.0.294  \\\n",
       "0      0.0      0.0      0.0      0.0      0.0      0.0      0.0      0.0   \n",
       "1      0.0      0.0      0.0      0.0      0.0      0.0      0.0      0.0   \n",
       "2      0.0      0.0      0.0      0.0      0.0      0.0      0.0      0.0   \n",
       "3      0.0      0.0      0.0      0.0      0.0      0.0      1.0      0.0   \n",
       "4      0.0      0.0      0.0      0.0      0.0      0.0      0.0      0.0   \n",
       "\n",
       "   0.0.295  -1  \n",
       "0      0.0  -1  \n",
       "1      0.0  -1  \n",
       "2      0.0  -1  \n",
       "3      0.0  -1  \n",
       "4      0.0  -1  \n",
       "\n",
       "[5 rows x 301 columns]"
      ]
     },
     "execution_count": 6,
     "metadata": {},
     "output_type": "execute_result"
    }
   ],
   "source": [
    "os.chdir(\"/Users/chalvidalm/Documents/3A OMA/OMA fonda/Machine Learning/Cours 3 - Algorithmes d'approximation stochastique/w8a\")\n",
    "\n",
    "w8a_train = pd.read_csv(\"w8a.csv\", sep=\";\")\n",
    "w8a_train_x = w8a_train.iloc[:, :-1].values\n",
    "w8a_train_y = w8a_train.iloc[:, -1].values\n",
    "\n",
    "w8a_test  = pd.read_csv(\"w8a_t.csv\", sep=\";\")\n",
    "w8a_test_x = w8a_test.iloc[:, :-1].values\n",
    "w8a_test_y = w8a_test.iloc[:, -1].values\n",
    "\n",
    "print(\"shape: \", w8a_train.shape)\n",
    "w8a_train.head()"
   ]
  },
  {
   "cell_type": "markdown",
   "metadata": {},
   "source": [
    "## Logistic Regression\n",
    "\n"
   ]
  },
  {
   "cell_type": "markdown",
   "metadata": {},
   "source": [
    "Today we’ll be moving from linear regression to logistic regression, one of the simplest ways to deal with a classification problem. Instead of fitting a line, logistic regression models the probability that the outcome is 1 given the value of the predictor. In order to do this we need a function that transforms our predictor variable to a value between 0 and 1. Lots of functions can do that, but the logistic function is the most common choice:\n",
    "\n",
    "$$f(z) = \\frac{1}{1+\\exp{-z}}.$$\n",
    "\n",
    "To predict the class of our observations we'll have to minimize the corresponding loss function and as we are in a high-dimensional context we'll add an $l_2$ regularization to the model:\n",
    "\n",
    "$$L(\\textbf{w}) = \\sum_{i=1}^n log(1+\\exp(-y_i\\textbf{w}^Tx_i))+\\frac{\\lambda}{2} \\| \\textbf{w} \\|^2,$$\n",
    "\n",
    "where $x_i$ is the vector of features for the observation $i$ and $y_i \\in \\{-1, 1\\}$ is the class label.  \n"
   ]
  },
  {
   "cell_type": "markdown",
   "metadata": {},
   "source": [
    "We first use the `sklearn` implementation:"
   ]
  },
  {
   "cell_type": "code",
   "execution_count": 7,
   "metadata": {
    "collapsed": true
   },
   "outputs": [],
   "source": [
    "from sklearn.linear_model import LogisticRegression\n",
    "model = LogisticRegression(penalty=\"l2\", C=1.0) \n",
    "model.fit(w8a_train_x, w8a_train_y)\n",
    "y_pred = model.predict(w8a_test_x)"
   ]
  },
  {
   "cell_type": "markdown",
   "metadata": {},
   "source": [
    "and we compute the accuracy score to evaluate the model performance:"
   ]
  },
  {
   "cell_type": "code",
   "execution_count": 8,
   "metadata": {
    "collapsed": false
   },
   "outputs": [
    {
     "data": {
      "text/plain": [
       "0.98568561872909699"
      ]
     },
     "execution_count": 8,
     "metadata": {},
     "output_type": "execute_result"
    }
   ],
   "source": [
    "from sklearn.metrics import accuracy_score\n",
    "accuracy_score(w8a_test_y, y_pred)"
   ]
  },
  {
   "cell_type": "markdown",
   "metadata": {},
   "source": [
    "### Assignment\n",
    "\n",
    "Implement from scratch your own logistic regression model with stochastic gradient descent. \n",
    "\n",
    "- Fill in the class\n",
    "\n",
    "- Display the evolution of the cost function along iterations. Do this for several strategies for the setting of the learning rate\n",
    "\n",
    "- Try the different acceleration strategies\n",
    "\n",
    "- Train the model with the training set and evaluate its performance in the test set"
   ]
  },
  {
   "cell_type": "code",
   "execution_count": 11,
   "metadata": {
    "collapsed": true
   },
   "outputs": [],
   "source": [
    "class StochasticLogisticRegression():\n",
    "    \"\"\" Class for logistic regression:\n",
    "    \n",
    "    Attributes:\n",
    "    -----------\n",
    "    coef_: 1-dimensional np.array\n",
    "        coefficients \n",
    "    alpha_: float\n",
    "        regularization parameter\n",
    "    lr_: float\n",
    "        the learning rate\n",
    "    bsize_: integer\n",
    "        the size of the mini-batch >=1\n",
    "    coef_history_: list\n",
    "        the list of all visited betas\n",
    "    f_history_: list \n",
    "        the list of all evaluations in visited betas\n",
    "    \n",
    "    \"\"\"\n",
    "    \n",
    "    def __init__(self, alpha):\n",
    "        self.coef_  = None\n",
    "        self.alpha_ = alpha\n",
    "        self.lr_     = None\n",
    "        self.bsize_  = None\n",
    "        self.coef_history_ = []\n",
    "        self.f_history_ = []\n",
    "\n",
    "    def logistic(self, z):\n",
    "        return(1/(1+np.exp(-z)))\n",
    "        \n",
    "    def fit(self, X, y, start, lr=1e-1, bsize=1, max_iter=100, acceleration='none'):\n",
    "        \"\"\" Fit the data (X, y).\n",
    "    \n",
    "        Parameters:\n",
    "        -----------\n",
    "        X: (num_samples, num_features) np.array\n",
    "            Design matrix\n",
    "        y: (num_sampes, ) np.array\n",
    "            Output vector\n",
    "        start: (num_features+1, ) np.array \n",
    "            initial value for coef_ \n",
    "        lr_: float\n",
    "            the learning rate\n",
    "        bsize: integer\n",
    "            the size of the mini-batch >=1\n",
    "        max_iter: integer\n",
    "            max number of iteration\n",
    "            \n",
    "        Note:\n",
    "        -----\n",
    "        Updates self.coef_ and prints F value\n",
    "        \"\"\" \n",
    "        \n",
    "        # Adding one dimension to input vector \n",
    "        \n",
    "        X = np.c_[X,np.ones(X.shape[0])]\n",
    "        \n",
    "        # Save fitting atributes\n",
    "        \n",
    "        nb_dim = X.shape\n",
    "        self.lr = lr\n",
    "        self.acceleration  = acceleration\n",
    "        self.bsize  = bsize\n",
    "        \n",
    "        \n",
    "        #Declaration of f_alpha and history of evaluations\n",
    "        \n",
    "        f = lambda x: np.sum([np.log(1 + np.exp(-y[i]*np.dot(X[i,:],x))) for i in range(nb_dim[0])]) + (self.alpha_/2)*np.square(np.linalg.norm(x[:-1]))\n",
    "        \n",
    "        self.beta=start\n",
    "        self.beta_history = [start]\n",
    "        self.f_history = [f(start)]\n",
    "        self.fprime_history=[]\n",
    "        \n",
    "        Starting_time=time.time()\n",
    "\n",
    "        #Start of iterations\n",
    "        \n",
    "        for j in range(max_iter):\n",
    "            \n",
    "            #selection of random sample of data to build batch iteration\n",
    "            \n",
    "            mini_batch=np.random.randint(nb_dim[0], size=self.bsize)\n",
    "            \n",
    "            Mat=np.array([np.exp((-y[i]*np.dot(X[i,:],self.beta_history[-1]))) if i in mini_batch else 0 for i in range(nb_dim[0])])\n",
    "            \n",
    "            #f_prime evaluation, note that the intercept is not penalized\n",
    "            \n",
    "            self.fprime=np.array([np.sum(np.array([(-y[i]*X[i,k]*Mat[i]/(1+Mat[i])) for i in mini_batch])) for k in range(nb_dim[1])]) + self.alpha_*np.append(self.beta[:-1],0)\n",
    "            \n",
    "            ## Momentum implementation\n",
    "            \n",
    "            if self.acceleration=='momentum':\n",
    "    \n",
    "                if len(self.beta_history)>1:\n",
    "                \n",
    "                    self.beta_history.append(self.beta_history[-1] - self.lr*self.fprime + (self.alpha_)*(self.beta_history[-1]-self.beta_history[-2]))\n",
    "            \n",
    "                    self.f_history.append(f(self.beta_history[-1]))\n",
    "                \n",
    "                else:\n",
    "                \n",
    "                    self.beta_history.append(self.beta_history[-1] - self.lr*self.fprime)\n",
    "            \n",
    "                    self.f_history.append(f(self.beta_history[-1]))\n",
    "            \n",
    "            ## SAG implementation \n",
    "            \n",
    "            elif self.acceleration=='SAG':\n",
    "                \n",
    "                self.fprime_history.append(self.fprime)\n",
    "                \n",
    "                self.beta_history.append(self.beta_history[-1] - ((self.lr*np.sum(self.fprime_history,axis=0))/np.max([1,j])))\n",
    "            \n",
    "                self.f_history.append(f(self.beta_history[-1]))               \n",
    "            \n",
    "            ## Normal SGD implementation\n",
    "            \n",
    "            else:\n",
    "\n",
    "                self.beta_history.append(self.beta_history[-1] - self.lr*self.fprime)\n",
    "            \n",
    "                self.f_history.append(f(self.beta_history[-1]))\n",
    "            \n",
    "            #Storage of final Beta \n",
    "            \n",
    "            self.beta = self.beta_history[-1]\n",
    "            \n",
    "        #Displaying execution time\n",
    "        \n",
    "        self.time = time.time() - Starting_time\n",
    "        print('Fitting done in {} sec'.format(self.time))\n",
    "        \n",
    "        #Please note that f_lr and f_prime_lr have been implemented in the fit method \n",
    "        \n",
    "        #def f(beta):\n",
    "        '''evaluate the F=\\sum_{i=1}^n f_i in beta'''\n",
    "            \n",
    "        #def fprime_lr_i_j(beta, i, j):\n",
    "        '''evaluate the directional derivative fprime_i_j in beta\n",
    "        i is the term of the summatory (representing one observation) \n",
    "        j is the index of the variable (direction)  \n",
    "        '''\n",
    "        \n",
    "    def predict(self, X):\n",
    "        \"\"\" Make binary predictions for data X.\n",
    "    \n",
    "        Parameters:\n",
    "        -----------\n",
    "        X: (num_samples, num_features) np.array\n",
    "            Design matrix\n",
    "        \n",
    "        Returns:\n",
    "        -----\n",
    "        y_pred: (num_samples, ) np.array\n",
    "            Predictions (0 or 1)\n",
    "        \"\"\"\n",
    "        #Preprocessing of variables\n",
    "        \n",
    "        X = np.c_[np.ones(X.shape[0]), X]\n",
    "        nb_dim=X.shape\n",
    "        \n",
    "        #Evaluation of input data\n",
    "        \n",
    "        Raw_log=np.array([self.logistic(np.dot(X[i,:],self.beta)) for i in range(nb_dim[0])])\n",
    "        Predicted=np.array([1 if i>=0.5 else -1 for i in Raw_log])\n",
    "        \n",
    "        return Predicted\n",
    "        "
   ]
  },
  {
   "cell_type": "markdown",
   "metadata": {},
   "source": [
    "### 1 -  Evolution of loss function across different learning rates"
   ]
  },
  {
   "cell_type": "markdown",
   "metadata": {},
   "source": [
    "Nota bene: For rapidity purpose, we specify a batch_size of 50 and 10 iterations of the algorithm.(After experimenting different parameters settings, we observe that those parameters are sufficient to reach quasi-asymptotic behavior of the loss function while being executed in minimal time) The alpha is set to 1/2 in order to benchmark the algorithme against scikit learn implementation."
   ]
  },
  {
   "cell_type": "code",
   "execution_count": 12,
   "metadata": {
    "collapsed": false
   },
   "outputs": [
    {
     "name": "stdout",
     "output_type": "stream",
     "text": [
      "Fitting with lr=0.01\n",
      "Fitting done in 16.9755740166 sec\n",
      "Fitting with lr=0.02\n",
      "Fitting done in 16.7475881577 sec\n",
      "Fitting with lr=0.03\n",
      "Fitting done in 16.6077420712 sec\n",
      "Fitting with lr=0.04\n",
      "Fitting done in 18.4130198956 sec\n",
      "Fitting with lr=0.05\n",
      "Fitting done in 17.0594639778 sec\n"
     ]
    },
    {
     "data": {
      "text/plain": [
       "<matplotlib.legend.Legend at 0x104b1db10>"
      ]
     },
     "execution_count": 12,
     "metadata": {},
     "output_type": "execute_result"
    },
    {
     "data": {
      "image/png": "[encoded data removed]",
      "text/plain": [
       "<Figure size 432x288 with 1 Axes>"
      ]
     },
     "metadata": {},
     "output_type": "display_data"
    }
   ],
   "source": [
    "Stolog=StochasticLogisticRegression(1/2)\n",
    "l_rates= [0.01*i for i in range(1,6)]\n",
    "Lr_curves=[]\n",
    "\n",
    "for lr in l_rates:\n",
    "    print 'Fitting with lr={}'.format(lr)\n",
    "    Stolog.fit(w8a_train_x,w8a_train_y, np.zeros(301), lr=lr, bsize=50,max_iter=20)\n",
    "    Lr_curves.append(Stolog.f_history)\n",
    "\n",
    "for i in Lr_curves:\n",
    "    plt.plot(i)\n",
    "\n",
    "plt.legend(l_rates)\n"
   ]
  },
  {
   "cell_type": "markdown",
   "metadata": {},
   "source": [
    "#### Commentary:"
   ]
  },
  {
   "cell_type": "markdown",
   "metadata": {},
   "source": [
    "As the learning increase between 0.01 and 0.05, the descent is steeper towards the minimum (unique by convexity) of the loss function. However, specifying too big a learning rate would cause inefficiency in the convergence towards the minimum of the loss function."
   ]
  },
  {
   "cell_type": "markdown",
   "metadata": {},
   "source": [
    "### 2 - Accelerations strategies "
   ]
  },
  {
   "cell_type": "code",
   "execution_count": 15,
   "metadata": {
    "collapsed": false
   },
   "outputs": [
    {
     "name": "stdout",
     "output_type": "stream",
     "text": [
      "Fitting with acceleration=none\n",
      "Fitting done in 16.1111938953 sec\n",
      "Fitting with acceleration=momentum\n",
      "Fitting done in 15.5061461926 sec\n",
      "Fitting with acceleration=SAG\n",
      "Fitting done in 16.5588560104 sec\n"
     ]
    },
    {
     "data": {
      "text/plain": [
       "<matplotlib.legend.Legend at 0x1a0a37b2d0>"
      ]
     },
     "execution_count": 15,
     "metadata": {},
     "output_type": "execute_result"
    },
    {
     "data": {
      "image/png": "[encoded data removed]",
      "text/plain": [
       "<Figure size 432x288 with 1 Axes>"
      ]
     },
     "metadata": {},
     "output_type": "display_data"
    }
   ],
   "source": [
    "Stolog=StochasticLogisticRegression(1/2)\n",
    "accelerations= ['none','momentum','SAG']\n",
    "acce_curves=[]\n",
    "\n",
    "for acc in accelerations:\n",
    "    print 'Fitting with acceleration={}'.format(acc)\n",
    "    Stolog.fit(w8a_train_x,w8a_train_y, np.zeros(301), lr=0.01, bsize=100,max_iter=15,acceleration=acc)\n",
    "    acce_curves.append(Stolog.f_history)\n",
    "\n",
    "for i in acce_curves:\n",
    "    plt.plot(i)\n",
    "\n",
    "plt.legend(accelerations)"
   ]
  },
  {
   "cell_type": "markdown",
   "metadata": {},
   "source": [
    "#### Commentary"
   ]
  },
  {
   "cell_type": "markdown",
   "metadata": {},
   "source": [
    "Our acceleration strategies proved to be quicker in reaching loss function minimum. Momentum technique has a marginal impact on loss function trajectory while SAG technique is converging appreciably quicker (however it introduces a bias after too many iterations as the loss function is increasing on the plot after 8 iterations)"
   ]
  },
  {
   "cell_type": "markdown",
   "metadata": {},
   "source": [
    "### 3 - Prediction of test set with different batch size"
   ]
  },
  {
   "cell_type": "code",
   "execution_count": 13,
   "metadata": {
    "collapsed": false
   },
   "outputs": [
    {
     "name": "stdout",
     "output_type": "stream",
     "text": [
      "Fitting with batch size=10\n",
      "Fitting done in 12.7829048634 sec\n",
      "96.9632107023 % of accuracy\n",
      "Fitting with batch size=50\n",
      "Fitting done in 13.5909438133 sec\n",
      "97.0234113712 % of accuracy\n",
      "Fitting with batch size=100\n",
      "Fitting done in 14.2778530121 sec\n",
      "96.7157190635 % of accuracy\n"
     ]
    }
   ],
   "source": [
    "sizes= [10,50,100,500]\n",
    "size_time=[]\n",
    "accuracies=[]\n",
    "\n",
    "for size in sizes:\n",
    "    print 'Fitting with batch size={}'.format(size)\n",
    "    Stolog=StochasticLogisticRegression(1)\n",
    "    Stolog.fit(w8a_train_x,w8a_train_y, np.zeros(301), lr=0.01, bsize=size, max_iter=15)\n",
    "    size_time.append(Stolog.time)\n",
    "    accuracies.append(accuracy_score(Stolog.predict(w8a_test_x),w8a_test_y))\n",
    "    print '{} % of accuracy'.format(accuracies[-1]*100)"
   ]
  },
  {
   "cell_type": "code",
   "execution_count": 14,
   "metadata": {
    "collapsed": false
   },
   "outputs": [
    {
     "data": {
      "text/plain": [
       "Text(0,0.5,'accuracy score')"
      ]
     },
     "execution_count": 14,
     "metadata": {},
     "output_type": "execute_result"
    },
    {
     "data": {
      "image/png": "[encoded data removed]",
      "text/plain": [
       "<Figure size 432x288 with 2 Axes>"
      ]
     },
     "metadata": {},
     "output_type": "display_data"
    }
   ],
   "source": [
    "plt.subplot(211)\n",
    "plt.plot(sizes,size_time)\n",
    "ax = plt.gca()\n",
    "ax.set_xscale('log')\n",
    "ax.invert_xaxis()\n",
    "ax.set_xlabel('batch size')\n",
    "ax.set_ylabel('time')\n",
    "\n",
    "plt.subplot(212)\n",
    "plt.plot(sizes,accuracies)\n",
    "ax = plt.gca()\n",
    "ax.set_ylim(0.965,0.975)\n",
    "ax.set_xscale('log')\n",
    "ax.invert_xaxis()\n",
    "ax.set_xlabel('batch size')\n",
    "ax.set_ylabel('accuracy score')"
   ]
  },
  {
   "cell_type": "markdown",
   "metadata": {},
   "source": [
    "As we supposed, **prediction's accuracy is positevely impacted by increasing batch size**. However, **reducing the batch size accelerate computation** of the iterations. This validates the techniques of using batches instead of the whole dataset to modify beta but underlines the **trade-off between accuracy and computation time** when setting batch size."
   ]
  },
  {
   "cell_type": "markdown",
   "metadata": {},
   "source": [
    "**Conclusion**:"
   ]
  },
  {
   "cell_type": "markdown",
   "metadata": {},
   "source": [
    "In this lab session, we studied that impact of differents parameters on the rapidity and accuracy of the optimisation of a logistic regression function with stochastic gradient descent. Our implementation is obviously far less efficient in terms of time than the scikit-learn implementation, however it provides approximately the same predictions. As a conclusion, **tunning of hyper-parameters appears to be of first importance when performing optimisation** of our loss function."
   ]
  }
 ],
 "metadata": {
  "anaconda-cloud": {},
  "kernelspec": {
   "display_name": "Python [conda env:myenv]",
   "language": "python",
   "name": "conda-env-myenv-py"
  },
  "language_info": {
   "codemirror_mode": {
    "name": "ipython",
    "version": 3
   },
   "file_extension": ".py",
   "mimetype": "text/x-python",
   "name": "python",
   "nbconvert_exporter": "python",
   "pygments_lexer": "ipython3",
   "version": "3.7.0"
  }
 },
 "nbformat": 4,
 "nbformat_minor": 2
}
