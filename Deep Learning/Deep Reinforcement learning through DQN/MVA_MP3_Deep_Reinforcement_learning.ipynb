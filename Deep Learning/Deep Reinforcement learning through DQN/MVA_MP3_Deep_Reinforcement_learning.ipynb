{
 "cells": [
  {
   "cell_type": "markdown",
   "metadata": {},
   "source": [
    "**You may need to install [OpenCV](https://pypi.python.org/pypi/opencv-python) and [scikit-video](http://www.scikit-video.org/stable/).**"
   ]
  },
  {
   "cell_type": "code",
   "execution_count": 39,
   "metadata": {},
   "outputs": [],
   "source": [
    "import keras\n",
    "import numpy as np\n",
    "import io\n",
    "import base64\n",
    "from IPython.display import HTML\n",
    "import skvideo\n",
    "skvideo.setFFmpegPath('/anaconda/bin')\n",
    "import skvideo.io\n",
    "import cv2\n",
    "from IPython.display import YouTubeVideo\n",
    "import json\n",
    "\n",
    "from keras.models import Sequential,model_from_json\n",
    "from keras.layers.core import Dense\n",
    "from keras.optimizers import sgd\n",
    "from keras.layers import Conv2D, MaxPooling2D, Activation, AveragePooling2D,Reshape,BatchNormalization, Dropout, Flatten\n",
    "from keras.utils import np_utils"
   ]
  },
  {
   "cell_type": "markdown",
   "metadata": {},
   "source": [
    "# MiniProject #3: Deep Reinforcement Learning"
   ]
  },
  {
   "cell_type": "markdown",
   "metadata": {},
   "source": [
    "__Notations__: $E_p$ is the expectation under probability $p$. Please justify each of your answer and widely comment your code."
   ]
  },
  {
   "cell_type": "markdown",
   "metadata": {},
   "source": [
    "# Context"
   ]
  },
  {
   "cell_type": "markdown",
   "metadata": {},
   "source": [
    "In a reinforcement learning algorithm, we modelize each step $t$ as an action $a_t$ obtained from a state $s_t$, i.e. $\\{(a_{t},s_{t})_{t\\leq T}\\}$ having the Markov property. We consider a discount factor $\\gamma \\in [0,1]$ that ensures convergence. The goal is to find among all the policies $\\pi$, one that maximizes the expected reward:\n",
    "\n",
    "\\begin{equation*}\n",
    "R(\\pi)=\\sum_{t\\leq T}E_{p^{\\pi}}[\\gamma^t r(s_{t},a_{t})] \\> ,\n",
    "\\end{equation*}\n",
    "\n",
    "where: \n",
    "\\begin{equation*}p^{\\pi}(a_{0},a_{1},s_{1},...,a_{T},s_{T})=p(a_{0})\\prod_{t=1}^{T}\\pi(a_{t}|s_{t})p(s_{t+1}|s_{t},a_{t}) \\> .\n",
    "\\end{equation*}\n",
    "\n",
    "We note the $Q$-function:\n",
    "\n",
    "\\begin{equation*}Q^\\pi(s,a)=E_{p^{\\pi}}[\\sum_{t\\leq T}\\gamma^{t}r(s_{t},a_{t})|s_{0}=s,a_{0}=a] \\> .\n",
    "\\end{equation*}\n",
    "\n",
    "Thus, the optimal Q function is:\n",
    "\\begin{equation*}\n",
    "Q^*(s,a)=\\max_{\\pi}Q^\\pi(s,a) \\> .\n",
    "\\end{equation*}\n",
    "\n",
    "In this project, we will apply the deep reinforcement learning techniques to a simple game: an agent will have to learn from scratch a policy that will permit it maximizing a reward."
   ]
  },
  {
   "cell_type": "markdown",
   "metadata": {},
   "source": [
    "## The environment, the agent and the game"
   ]
  },
  {
   "cell_type": "markdown",
   "metadata": {},
   "source": [
    "### The environment"
   ]
  },
  {
   "cell_type": "markdown",
   "metadata": {},
   "source": [
    "```Environment``` is an abstract class that represents the states, rewards, and actions to obtain the new state."
   ]
  },
  {
   "cell_type": "code",
   "execution_count": 40,
   "metadata": {},
   "outputs": [],
   "source": [
    "class Environment(object):\n",
    "    def __init__(self):\n",
    "        pass\n",
    "\n",
    "    def act(self, act):\n",
    "        \"\"\"\n",
    "        One can act on the environment and obtain its reaction:\n",
    "        - the new state\n",
    "        - the reward of the new state\n",
    "        - should we continue the game?\n",
    "\n",
    "        :return: state, reward, game_over\n",
    "        \"\"\"\n",
    "        pass\n",
    "\n",
    "\n",
    "    def reset(self):\n",
    "        \"\"\"\n",
    "        Reinitialize the environment to a random state and returns\n",
    "        the original state\n",
    "\n",
    "        :return: state\n",
    "        \"\"\"\n",
    "        pass\n",
    "    \n",
    "    def draw(self):\n",
    "        \"\"\"\n",
    "        Visualize in the console or graphically the current state\n",
    "        \"\"\"\n",
    "        pass"
   ]
  },
  {
   "cell_type": "markdown",
   "metadata": {},
   "source": [
    "The method ```act``` allows to act on the environment at a given state $s_t$ (stored internally), via action $a_t$. The method will return the new state $s_{t+1}$, the reward $r(s_{t},a_{t})$ and determines if $t\\leq T$ (*game_over*).\n",
    "\n",
    "The method ```reset``` simply reinitializes the environment to a random state $s_0$.\n",
    "\n",
    "The method ```draw``` displays the current state $s_t$ (this is useful to check the behavior of the Agent).\n",
    "\n",
    "We modelize $s_t$ as a tensor, while $a_t$ is an integer."
   ]
  },
  {
   "cell_type": "markdown",
   "metadata": {},
   "source": [
    "### The Agent"
   ]
  },
  {
   "cell_type": "markdown",
   "metadata": {},
   "source": [
    "The goal of the ```Agent``` is to interact with the ```Environment``` by proposing actions $a_t$ obtained from a given state $s_t$ to attempt to maximize its __reward__ $r(s_t,a_t)$. We propose the following abstract class:"
   ]
  },
  {
   "cell_type": "code",
   "execution_count": 41,
   "metadata": {},
   "outputs": [],
   "source": [
    "class Agent(object):\n",
    "    def __init__(self, epsilon=0.1, n_action=4):\n",
    "        self.epsilon = epsilon\n",
    "        self.n_action = n_action\n",
    "    \n",
    "    def set_epsilon(self,e):\n",
    "        self.epsilon = e\n",
    "\n",
    "    def act(self,s,train=True):\n",
    "        \"\"\" This function should return the next action to do:\n",
    "        an integer between 0 and 4 (not included) with a random exploration of epsilon\"\"\"\n",
    "        if train:\n",
    "            if np.random.rand() <= self.epsilon:\n",
    "                a = np.random.randint(0, self.n_action, size=1)[0]\n",
    "            else:\n",
    "                a = self.learned_act(s)\n",
    "        else: # in some cases, this can improve the performance.. remove it if poor performances\n",
    "            a = self.learned_act(s)\n",
    "        return a\n",
    "\n",
    "    def learned_act(self,s):\n",
    "        \"\"\" Act via the policy of the agent, from a given state s\n",
    "        it proposes an action a\"\"\"\n",
    "        pass\n",
    "\n",
    "    def reinforce(self, s, n_s, a, r, game_over_):\n",
    "        \"\"\" This function is the core of the learning algorithm. \n",
    "        It takes as an input the current state s_, the next state n_s_\n",
    "        the action a_ used to move from s_ to n_s_ and the reward r_.\n",
    "        \n",
    "        Its goal is to learn a policy.\n",
    "        \"\"\"\n",
    "        pass\n",
    "\n",
    "    def save(self):\n",
    "        \"\"\" This function returns basic stats if applicable: the\n",
    "        loss and/or the model\"\"\"\n",
    "        pass\n",
    "\n",
    "    def load(self):\n",
    "        \"\"\" This function allows to restore a model\"\"\"\n",
    "        pass"
   ]
  },
  {
   "cell_type": "markdown",
   "metadata": {},
   "source": [
    "***\n",
    "__Question 1__:\n",
    "Explain the function act. Why is ```epsilon``` essential?"
   ]
  },
  {
   "cell_type": "markdown",
   "metadata": {},
   "source": [
    "<font color='blue'>\n",
    "\n",
    "> $\\epsilon$ represents a trade-off between exploration and exploitation of the environnement. While a low espsilon will tend to let the agent select a policy already visited and known to be of high reward (this behaviour is refered as exploitation), a high epsilon will let him take randomly new actions and states and explore there reward signals (exploration)."
   ]
  },
  {
   "cell_type": "markdown",
   "metadata": {},
   "source": [
    "***\n",
    "### The Game"
   ]
  },
  {
   "cell_type": "markdown",
   "metadata": {},
   "source": [
    "The ```Agent``` and the ```Environment``` work in an interlaced way as in the following (take some time to understand this code as it is the core of the project)\n",
    "\n",
    "```python\n",
    "\n",
    "epoch = 300\n",
    "env = Environment()\n",
    "agent = Agent()\n",
    "\n",
    "\n",
    "# Number of won games\n",
    "score = 0\n",
    "loss = 0\n",
    "\n",
    "\n",
    "for e in range(epoch):\n",
    "    # At each epoch, we restart to a fresh game and get the initial state\n",
    "    state = env.reset()\n",
    "    # This assumes that the games will end\n",
    "    game_over = False\n",
    "\n",
    "    win = 0\n",
    "    lose = 0\n",
    "    \n",
    "    while not game_over:\n",
    "        # The agent performs an action\n",
    "        action = agent.act(state)\n",
    "\n",
    "        # Apply an action to the environment, get the next state, the reward\n",
    "        # and if the games end\n",
    "        prev_state = state\n",
    "        state, reward, game_over = env.act(action)\n",
    "\n",
    "        # Update the counters\n",
    "        if reward > 0:\n",
    "            win = win + reward\n",
    "        if reward < 0:\n",
    "            lose = lose -reward\n",
    "\n",
    "        # Apply the reinforcement strategy\n",
    "        loss = agent.reinforce(prev_state, state,  action, reward, game_over)\n",
    "\n",
    "    # Save as a mp4\n",
    "    if e % 10 == 0:\n",
    "        env.draw(e)\n",
    "\n",
    "    # Update stats\n",
    "    score += win-lose\n",
    "\n",
    "    print(\"Epoch {:03d}/{:03d} | Loss {:.4f} | Win/lose count {}/{} ({})\"\n",
    "          .format(e, epoch, loss, win, lose, win-lose))\n",
    "    agent.save()\n",
    "```"
   ]
  },
  {
   "cell_type": "markdown",
   "metadata": {},
   "source": [
    "# The game, *eat cheese*"
   ]
  },
  {
   "cell_type": "markdown",
   "metadata": {},
   "source": [
    "A rat runs on an island and tries to eat as much as possible. The island is subdivided into $N\\times N$ cells, in which there are cheese (+0.5) and poisonous cells (-1). The rat has a visibility of 2 cells (thus it can see $5^2$ cells). The rat is given a time $T$ to accumulate as much food as possible. It can perform 4 actions: going up, down, left, right. \n",
    "\n",
    "The goal is to code an agent to solve this task that will learn by trial and error. We propose the following environment:"
   ]
  },
  {
   "cell_type": "code",
   "execution_count": 43,
   "metadata": {},
   "outputs": [],
   "source": [
    "class Environment(object):\n",
    "    def __init__(self, grid_size=10, max_time=500, temperature=0.1):\n",
    "        grid_size = grid_size+4\n",
    "        self.grid_size = grid_size\n",
    "        self.max_time = max_time\n",
    "        self.temperature = temperature\n",
    "\n",
    "        #board on which one plays\n",
    "        self.board = np.zeros((grid_size,grid_size))\n",
    "        self.position = np.zeros((grid_size,grid_size))\n",
    "\n",
    "        # coordinate of the cat\n",
    "        self.x = 0\n",
    "        self.y = 1\n",
    "\n",
    "        # self time\n",
    "        self.t = 0\n",
    "\n",
    "        self.scale=16\n",
    "\n",
    "        self.to_draw = np.zeros((max_time+2, grid_size*self.scale, grid_size*self.scale, 3))\n",
    "\n",
    "\n",
    "    def draw(self,e):\n",
    "        skvideo.io.vwrite(str(e) + '.mp4', self.to_draw)\n",
    "\n",
    "    def get_frame(self,t):\n",
    "        b = np.zeros((self.grid_size,self.grid_size,3))+128\n",
    "        b[self.board>0,0] = 256\n",
    "        b[self.board<0,2] = 256\n",
    "        b[self.x,self.y,:] = 256\n",
    "        b[-2:,:,:]=0\n",
    "        b[:,-2:,:]=0\n",
    "        b[:2,:,:]=0\n",
    "        b[:,:2,:]=0\n",
    "        \n",
    "        b =  cv2.resize(b, None, fx=self.scale, fy=self.scale, interpolation=cv2.INTER_NEAREST)\n",
    "\n",
    "        self.to_draw[t,:,:,:]=b\n",
    "\n",
    "\n",
    "    def act(self, action):\n",
    "        \"\"\"This function returns the new state, reward and decides if the\n",
    "        game ends.\"\"\"\n",
    "\n",
    "        self.get_frame(int(self.t))\n",
    "\n",
    "        self.position = np.zeros((self.grid_size, self.grid_size))\n",
    "\n",
    "        self.position[0:2,:]= -1\n",
    "        self.position[:,0:2] = -1\n",
    "        self.position[-2:, :] = -1\n",
    "        self.position[:,-2:] = -1\n",
    "\n",
    "        self.position[self.x, self.y] = 1\n",
    "        if action == 0:\n",
    "            if self.x == self.grid_size-3:\n",
    "                self.x = self.x-1\n",
    "            else:\n",
    "                self.x = self.x + 1\n",
    "        elif action == 1:\n",
    "            if self.x == 2:\n",
    "                self.x = self.x+1\n",
    "            else:\n",
    "                self.x = self.x-1\n",
    "        elif action == 2:\n",
    "            if self.y == self.grid_size - 3:\n",
    "                self.y = self.y - 1\n",
    "            else:\n",
    "                self.y = self.y + 1\n",
    "        elif action == 3:\n",
    "            if self.y == 2:\n",
    "                self.y = self.y + 1\n",
    "            else:\n",
    "                self.y = self.y - 1\n",
    "        else:\n",
    "            RuntimeError('Error: action not recognized')\n",
    "\n",
    "        self.t = self.t + 1\n",
    "        reward = self.board[self.x, self.y]\n",
    "        self.board[self.x, self.y] = 0\n",
    "        game_over = self.t > self.max_time\n",
    "        state = np.concatenate((self.board.reshape(self.grid_size, self.grid_size,1),\n",
    "                        self.position.reshape(self.grid_size, self.grid_size,1)),axis=2)\n",
    "        state = state[self.x-2:self.x+3,self.y-2:self.y+3,:]\n",
    "\n",
    "        return state, reward, game_over\n",
    "\n",
    "    def reset(self):\n",
    "        \"\"\"This function resets the game and returns the initial state\"\"\"\n",
    "\n",
    "        self.x = np.random.randint(3, self.grid_size-3, size=1)[0]\n",
    "        self.y = np.random.randint(3, self.grid_size-3, size=1)[0]\n",
    "\n",
    "\n",
    "        bonus = 0.5*np.random.binomial(1,self.temperature,size=self.grid_size**2)\n",
    "        bonus = bonus.reshape(self.grid_size,self.grid_size)\n",
    "\n",
    "        malus = -1.0*np.random.binomial(1,self.temperature,size=self.grid_size**2)\n",
    "        malus = malus.reshape(self.grid_size, self.grid_size)\n",
    "\n",
    "        self.to_draw = np.zeros((self.max_time+2, self.grid_size*self.scale, self.grid_size*self.scale, 3))\n",
    "\n",
    "        malus[bonus>0]=0\n",
    "\n",
    "        self.board = bonus + malus\n",
    "\n",
    "        self.position = np.zeros((self.grid_size, self.grid_size))\n",
    "        self.position[0:2,:]= -1\n",
    "        self.position[:,0:2] = -1\n",
    "        self.position[-2:, :] = -1\n",
    "        self.position[-2:, :] = -1\n",
    "        self.board[self.x,self.y] = 0\n",
    "        self.t = 0\n",
    "\n",
    "        state = np.concatenate((self.board.reshape(self.grid_size, self.grid_size,1),\n",
    "                        self.position.reshape(self.grid_size, self.grid_size,1)),axis=2)\n",
    "\n",
    "        state = state[self.x - 2:self.x + 3, self.y - 2:self.y + 3, :]\n",
    "        return state"
   ]
  },
  {
   "cell_type": "markdown",
   "metadata": {},
   "source": [
    "The following elements are important because they correspond to the hyper parameters for this project:"
   ]
  },
  {
   "cell_type": "code",
   "execution_count": 44,
   "metadata": {},
   "outputs": [],
   "source": [
    "# parameters\n",
    "size = 20\n",
    "T=50\n",
    "temperature=0.2\n",
    "epochs_train=10 # set small when debugging\n",
    "epochs_test=10 # set small when debugging\n",
    "\n",
    "# display videos\n",
    "def display_videos(name):\n",
    "    video = io.open(name, 'r+b').read()\n",
    "    encoded = base64.b64encode(video)\n",
    "    return '''<video alt=\"test\" controls>\n",
    "                <source src=\"data:video/mp4;base64,{0}\" type=\"video/mp4\" />\n",
    "             </video>'''.format(encoded.decode('ascii'))"
   ]
  },
  {
   "cell_type": "markdown",
   "metadata": {},
   "source": [
    "__Question 2__ Explain the use of the arrays ```position``` and ```board```."
   ]
  },
  {
   "cell_type": "markdown",
   "metadata": {},
   "source": [
    "> The arrays \"position\" and \"board\" are 2 attributes of the class Environnment that stores the informations about the grid/map on whihc the game is payed. The board namely stores the rewards signals the agent gets when it reach this location. The position array stores the location of the agent on the map during the game."
   ]
  },
  {
   "cell_type": "markdown",
   "metadata": {},
   "source": [
    "## Random Agent"
   ]
  },
  {
   "cell_type": "markdown",
   "metadata": {},
   "source": [
    "***\n",
    "__Question 3__ Implement a random Agent (only ```learned_act``` needs to be implemented):"
   ]
  },
  {
   "cell_type": "code",
   "execution_count": 45,
   "metadata": {},
   "outputs": [],
   "source": [
    "class RandomAgent(Agent):\n",
    "    def __init__(self):\n",
    "        super(RandomAgent, self).__init__()\n",
    "        pass\n",
    "\n",
    "    def learned_act(self, s):\n",
    "        action = np.random.randint(0,4)\n",
    "        return action"
   ]
  },
  {
   "cell_type": "markdown",
   "metadata": {},
   "source": [
    "***\n",
    "***\n",
    "__Question 4__ Visualize the game moves. You need to fill in the following function for the evaluation:"
   ]
  },
  {
   "cell_type": "code",
   "execution_count": 46,
   "metadata": {},
   "outputs": [],
   "source": [
    "def test(agent,env,epochs,prefix=''):\n",
    "    # Number of won games\n",
    "    score = 0\n",
    "        \n",
    "    for e in range(epochs):\n",
    "        \n",
    "        state = env.reset()\n",
    "        game_over = False\n",
    "        win = 0\n",
    "        lose = 0        \n",
    "\n",
    "        while game_over == False:\n",
    "            \n",
    "            #play and interact\n",
    "            action = agent.learned_act(state)\n",
    "            state, reward, game_over = env.act(action)\n",
    "            \n",
    "            #update score\n",
    "            if reward > 0:\n",
    "                win = win + reward\n",
    "            if reward < 0:\n",
    "                lose = lose - reward\n",
    "                \n",
    "            # Save as a mp4\n",
    "            env.draw(prefix+str(e))\n",
    "            \n",
    "            #if re > 0:\n",
    "            #    win = win + re\n",
    "            #if re < 0:\n",
    "            #    lose = lose - re\n",
    "        # Update stats\n",
    "        #score = score + win-lose\n",
    "        score = score + win-lose\n",
    "        print(\"Win/lose count {}/{}. Average score ({})\".format(win, lose, score/(1+e)))\n",
    "    print('Final score: '+str(score/epochs))"
   ]
  },
  {
   "cell_type": "code",
   "execution_count": 68,
   "metadata": {},
   "outputs": [
    {
     "name": "stdout",
     "output_type": "stream",
     "text": [
      "Win/lose count 5.0/8.0. Average score (-3.0)\n",
      "Win/lose count 4.5/8.0. Average score (-3.25)\n",
      "Win/lose count 4.5/11.0. Average score (-4.333333333333333)\n",
      "Win/lose count 4.5/7.0. Average score (-3.875)\n",
      "Win/lose count 2.5/5.0. Average score (-3.6)\n",
      "Win/lose count 5.0/13.0. Average score (-4.333333333333333)\n",
      "Win/lose count 8.0/7.0. Average score (-3.5714285714285716)\n",
      "Win/lose count 4.5/8.0. Average score (-3.5625)\n",
      "Win/lose count 7.0/10.0. Average score (-3.5)\n",
      "Win/lose count 7.5/13.0. Average score (-3.7)\n",
      "Final score: -3.7\n"
     ]
    }
   ],
   "source": [
    "# Initialize the game\n",
    "env = Environment(grid_size=size, max_time=T,temperature=temperature)\n",
    "\n",
    "# Initialize the agent!\n",
    "agent = RandomAgent()\n",
    "test(agent,env,epochs_test,prefix='random')\n"
   ]
  },
  {
   "cell_type": "code",
   "execution_count": 67,
   "metadata": {},
   "outputs": [
    {
     "data": {
      "image/jpeg": "[encoded data removed]",
      "text/html": [
       "\n",
       "        <iframe\n",
       "            width=\"600\"\n",
       "            height=\"600\"\n",
       "            src=\"https://www.youtube.com/embed/So3rvTzC29g\"\n",
       "            frameborder=\"0\"\n",
       "            allowfullscreen\n",
       "        ></iframe>\n",
       "        "
      ],
      "text/plain": [
       "<IPython.lib.display.YouTubeVideo at 0x1c2fd089e8>"
      ]
     },
     "execution_count": 67,
     "metadata": {},
     "output_type": "execute_result"
    }
   ],
   "source": [
    "YouTubeVideo('So3rvTzC29g',width=600, height=600)"
   ]
  },
  {
   "cell_type": "markdown",
   "metadata": {},
   "source": [
    "***\n",
    "## DQN"
   ]
  },
  {
   "cell_type": "markdown",
   "metadata": {},
   "source": [
    "Let us assume here that $T=\\infty$.\n",
    "\n",
    "***\n",
    "__Question 5__ Let $\\pi$ be a policy, show that:\n",
    "\n",
    "\\begin{equation*}\n",
    "Q^{\\pi}(s,a)=E_{(s',a')\\sim p(.|s,a)}[r(s,a)+\\gamma Q^{\\pi}(s',a')]\n",
    "\\end{equation*}\n",
    "\n",
    "Then, show that for the optimal policy $\\pi^*$ (we assume its existence), the following holds: \n",
    "\n",
    "\\begin{equation*}\n",
    "Q^{*}(s,a)=E_{s'\\sim \\pi^*(.|s,a)}[r(s,a)+\\gamma\\max_{a'}Q^{*}(s',a')].\n",
    "\\end{equation*}\n",
    "Finally, deduce that a plausible objective is:\n",
    "\n",
    "\\begin{equation*}\n",
    "\\mathcal{L}(\\theta)=E_{s' \\sim \\pi^*(.|s,a)}\\Vert r+\\gamma\\max_{a'}Q(s',a',\\theta)-Q(s,a,\\theta)\\Vert^{2}.\n",
    "\\end{equation*}\n",
    "\n",
    "\n"
   ]
  },
  {
   "cell_type": "markdown",
   "metadata": {},
   "source": [
    "1 -  $Q^{\\pi}(s,a)=E_{(s',a')\\sim p(.|s,a)}[r(s,a)+\\gamma Q^{\\pi}(s',a')]$}\n",
    "\n",
    "<font color='blue'>\n",
    "\n",
    "> $Q^{\\pi}(s,a) = E_{p^{\\pi}}[\\sum\\limits_{t = 0}^{\\infty}\\gamma^{t}r(s_{t},a_{t})\\|s_0=s,a_0=a]$\n",
    "\n",
    ">$Q^{\\pi}(s,a) =E_{p^{\\pi}}[r(s,a) + \\gamma E_{p^{\\pi}}[\\sum\\limits_{t = 1}^{\\infty}\\gamma^{t-1}r(s_{t},a_{t})|s_1=s',a_1=a']|s_0=s,a_0=a]$ \n",
    "\n",
    ">$Q^{\\pi}(s,a)=E_{(s',a')\\sim p^{\\pi}(.|s,a)}[r(s,a)+\\gamma Q^{\\pi}(s',a')]$"
   ]
  },
  {
   "cell_type": "markdown",
   "metadata": {},
   "source": [
    "2 - Bellman equation reritting\n",
    "\n",
    "<font color='blue'>\n",
    " \n",
    "\n",
    "> Let us define $\\pi$ the greedy policy w.r.t $\\pi^{*}$ the optimal policy. Then we have by applying the first equlity to $\\pi$\n",
    "\n",
    ">$Q^{\\pi}(s,a)=E_{(s',a')\\sim p^{\\pi^{*}}(.|s,a)}[r(s,a)+\\gamma Q^{\\pi}(s',a')]$\n",
    "\n",
    ">$Q^{\\pi}(s,a)= r(s,a) + \\gamma\\sum\\limits_{s'\\in S}p(s'|s,a)\\pi(a'|s')Q^{\\pi}(s',a')$ and since $\\pi$ is greedy policy we have: $\\pi(a'|s')$ is the dirac function for $a' = argmax_{a'} Q^{\\pi^{*}}(s',a')$ so the q fucntion can be rewritten as:\n",
    "\n",
    "> $Q^{\\pi}(s,a)= E_{s'\\sim \\pi(.|s,a)}[r(s,a)+\\gamma max_{a'}Q^{\\pi}(s',a')]$\n",
    "\n",
    "> But since $\\pi*$ is optimal, a greedy policy of that policy is the optimal policy itself, hence $\\pi = \\pi^{*}$\n",
    "\n",
    "> Finally, $Q^{*}(s,a)=E_{s'\\sim \\pi^*(.|s,a)}[r(s,a)+\\gamma\\max_{a'}Q^{*}(s',a')].$\n",
    "\n",
    "\n",
    "> This result shows that knowing the optimal q state-action value-fucntion is equivalent to know the optimal policy function since any greedy policy w.r.t to that value function is optimal."
   ]
  },
  {
   "cell_type": "markdown",
   "metadata": {},
   "source": [
    "3 - Objective function\n",
    "<font color='blue'>\n",
    " \n",
    "\n",
    "> Since we want the network to learn the optimal action policy value function for the Markovian sequence, a logical objective is to make the action policy function of the network veryfing the Bellman optimality equation (2). Thus we minimize the average square error between the values predicted by the network and the target output for each actions, given that the optimal value function verifies the equation 2. \n",
    "\n",
    "> $\\mathcal{L}(\\theta)=E_{s' \\sim \\pi^*(.|s,a)}\\Vert r+\\gamma\\max_{a'}Q(s',a',\\theta)-Q(s,a,\\theta)\\Vert^{2}.$\n",
    "\n"
   ]
  },
  {
   "cell_type": "markdown",
   "metadata": {},
   "source": [
    "***\n",
    "The DQN-learning algorithm relies on these derivations to train the parameters $\\theta$ of a Deep Neural Network:\n",
    "\n",
    "1. At the state $s_t$, select the action $a_t$ with best reward using $Q_t$ and store the results;\n",
    "\n",
    "2. Obtain the new state $s_{t+1}$ from the environment $p$;\n",
    "\n",
    "3. Store $(s_t,a_t,s_{t+1})$;\n",
    "\n",
    "4. Obtain $Q_{t+1}$ by minimizing  $\\mathcal{L}$ from a recovered batch from the previously stored results.\n",
    "\n",
    "***\n",
    "__Question 6__ Implement the class ```Memory``` that stores moves (in a replay buffer) via ```remember``` and provides a ```random_access``` to these. Specify a maximum memory size to avoid side effects. You can for example use a ```list()``` and set by default ```max_memory=100```."
   ]
  },
  {
   "cell_type": "code",
   "execution_count": 48,
   "metadata": {},
   "outputs": [],
   "source": [
    "class Memory(object):\n",
    "    def __init__(self, max_memory=100):\n",
    "        self.max_memory = max_memory\n",
    "        self.memory = list()\n",
    "\n",
    "    def remember(self, m):\n",
    "        if len(self.memory)>=self.max_memory:\n",
    "            self.memory[np.random.randint(self.max_memory)]= m\n",
    "        else:\n",
    "            self.memory.append(m)\n",
    "\n",
    "    def random_access(self):\n",
    "        return self.memory[np.random.randint(len(self.memory))]"
   ]
  },
  {
   "cell_type": "markdown",
   "metadata": {},
   "source": [
    "***\n",
    "The pipeline we will use for training is given below:"
   ]
  },
  {
   "cell_type": "code",
   "execution_count": 49,
   "metadata": {},
   "outputs": [],
   "source": [
    "def train(agent,env,epoch,prefix=''):\n",
    "    # Number of won games\n",
    "    score = 0\n",
    "    loss = 0\n",
    "    loss_ = []\n",
    "\n",
    "    for e in range(epoch):\n",
    "        # At each epoch, we restart to a fresh game and get the initial state\n",
    "        state = env.reset()\n",
    "        # This assumes that the games will terminate\n",
    "        game_over = False\n",
    "\n",
    "        win = 0\n",
    "        lose = 0\n",
    "\n",
    "        while not game_over:\n",
    "            # The agent performs an action\n",
    "            action = agent.act(state)\n",
    "\n",
    "            # Apply an action to the environment, get the next state, the reward\n",
    "            # and if the games end\n",
    "            prev_state = state\n",
    "            state, reward, game_over = env.act(action)\n",
    "\n",
    "            # Update the counters\n",
    "            if reward > 0:\n",
    "                win = win + reward\n",
    "            if reward < 0:\n",
    "                lose = lose -reward\n",
    "\n",
    "            # Apply the reinforcement strategy\n",
    "            loss = agent.reinforce(prev_state, state,  action, reward, game_over)\n",
    "\n",
    "        # Save as a mp4\n",
    "        if e % 10 == 0:\n",
    "            env.draw(prefix+str(e))\n",
    "\n",
    "        # Update stats\n",
    "        score += win-lose\n",
    "\n",
    "        print(\"Epoch {:03d}/{:03d} | Loss {:.4f} | Win/lose count {}/{} ({})\"\n",
    "              .format(e, epoch, loss, win, lose, win-lose))\n",
    "        agent.save(name_weights=prefix+'model.h5',name_model=prefix+'model.json')\n",
    "        loss_.append(loss)\n",
    "    return loss_"
   ]
  },
  {
   "cell_type": "markdown",
   "metadata": {},
   "source": [
    "***\n",
    "__Question 7__ Implement the DQN training algorithm using a cascade of fully connected layers. You can use different learning rate, batch size or memory size parameters. In particular, the loss might oscillate while the player will start to win the games. You have to find a good criterium."
   ]
  },
  {
   "cell_type": "code",
   "execution_count": 50,
   "metadata": {},
   "outputs": [],
   "source": [
    "class DQN(Agent):\n",
    "    def __init__(self, grid_size,  epsilon = 0.1, memory_size=100, batch_size = 16,n_state=2):\n",
    "        super(DQN, self).__init__(epsilon = epsilon)\n",
    "\n",
    "        # Discount for Q learning\n",
    "        self.discount = 0.99\n",
    "        \n",
    "        self.grid_size = grid_size\n",
    "        \n",
    "        # number of state\n",
    "        self.n_state = n_state\n",
    "\n",
    "        # Memory\n",
    "        self.memory = Memory(memory_size)\n",
    "        \n",
    "        # Batch size when learning\n",
    "        self.batch_size = batch_size\n",
    "\n",
    "    def learned_act(self, s):\n",
    "        pass\n",
    "\n",
    "    def reinforce(self, s_, n_s_, a_, r_, game_over_):\n",
    "        # Two steps: first memorize the states, second learn from the pool\n",
    "        \n",
    "        #Q-Learning with experience replay implementation\n",
    "\n",
    "        self.memory.remember([s_, n_s_, a_, r_, game_over_])\n",
    "        \n",
    "        input_states = np.zeros((self.batch_size,5,5,self.n_state))\n",
    "        target_q = np.zeros((self.batch_size, 4))\n",
    "        \n",
    "        for i in range(self.batch_size):\n",
    "            \n",
    "            batch = self.memory.random_access() #randomly selecting episodes\n",
    "            \n",
    "            if batch[4]: #game_over\n",
    "                input_states[i] = batch[0]\n",
    "                target_q[i,:] = self.model.predict(batch[0].reshape((1,5,5,self.n_state)))\n",
    "                target_q[i,int(batch[2])] = batch[3]\n",
    "            else:\n",
    "                input_states[i] = batch[0]\n",
    "                target_q[i,:] = self.model.predict(batch[0].reshape((1,5,5,self.n_state)))\n",
    "                target_q[i,int(batch[2])] = batch[3] + self.discount*np.max(self.model.predict(batch[1].reshape((1,5,5,self.n_state))))\n",
    "        \n",
    "        # HINT: Clip the target to avoid exploiding gradients.. -- clipping is a bit tighter\n",
    "        #NB this is made useless by the squashing operation\n",
    "        target_q = np.clip(target_q, -8, 8)\n",
    "        l = self.model.train_on_batch(input_states, target_q)\n",
    "\n",
    "        return l\n",
    "\n",
    "    def save(self,name_weights='model.h5',name_model='model.json'):\n",
    "        self.model.save_weights(name_weights, overwrite=True)\n",
    "        with open(name_model, \"w\") as outfile:\n",
    "            json.dump(self.model.to_json(), outfile)\n",
    "            \n",
    "    def load(self,name_weights='model.h5',name_model='model.json'):\n",
    "        with open(name_model, \"r\") as jfile:\n",
    "            model = model_from_json(json.load(jfile))\n",
    "        model.load_weights(name_weights)\n",
    "        model.compile(\"sgd\", \"mse\")\n",
    "        self.model = model\n",
    "\n",
    "            \n",
    "class DQN_FC(DQN):\n",
    "    def __init__(self, *args, lr=0.1,**kwargs):\n",
    "        super(DQN_FC, self).__init__( *args,**kwargs)\n",
    "        \n",
    "        \n",
    "        #Architecture : 32--BatchNorm/relu-->32--BatchNorm/relu-->16--relu-->Flatten-->Dense4--linear-->\n",
    "    \n",
    "        model = keras.models.Sequential()\n",
    "        model.add(Dense(32,input_shape=(5,5,self.n_state)))\n",
    "        model.add(BatchNormalization())\n",
    "        model.add(Activation('relu'))\n",
    "        model.add(Dropout(0.5))\n",
    "        model.add(Dense(32))\n",
    "        model.add(BatchNormalization())\n",
    "        model.add(Activation('relu'))\n",
    "        model.add(Dropout(0.5))\n",
    "        model.add(Dense(16))\n",
    "        #model.add(BatchNormalization())\n",
    "        model.add(Activation('relu'))\n",
    "        model.add(Flatten())\n",
    "        model.add(Dense(4,activation='linear')) \n",
    "        \n",
    "        # Since the ouptu of the net corresponds to the estimatation \n",
    "        #of the q value function, the initial guess was not to apply \n",
    "        #any non-lineraity transformation at the last layer.\n",
    "        #However we'll see in training that applying a squashing function such as the tanh helps the\n",
    "        #network to converge faster and more accurately.\n",
    "        \n",
    "        ####### FILL IN\n",
    "        \n",
    "        model.compile(sgd(lr=lr, decay=1e-4, momentum=0.0), \"mse\") #MSE on Bellman operator difference\n",
    "        self.model = model\n",
    "    \n",
    "    def learned_act(self, s):\n",
    "        return np.argmax(self.model.predict(s.reshape((1,5,5,self.n_state))))\n",
    "        "
   ]
  },
  {
   "cell_type": "code",
   "execution_count": 51,
   "metadata": {},
   "outputs": [
    {
     "name": "stdout",
     "output_type": "stream",
     "text": [
      "Epoch 000/100 | Loss 0.0774 | Win/lose count 5.0/12.0 (-7.0)\n",
      "Epoch 001/100 | Loss 0.0593 | Win/lose count 4.5/4.0 (0.5)\n",
      "Epoch 002/100 | Loss 0.0502 | Win/lose count 5.5/11.0 (-5.5)\n",
      "Epoch 003/100 | Loss 0.0661 | Win/lose count 4.0/3.0 (1.0)\n",
      "Epoch 004/100 | Loss 0.0200 | Win/lose count 4.5/0 (4.5)\n",
      "Epoch 005/100 | Loss 0.0265 | Win/lose count 5.0/3.0 (2.0)\n",
      "Epoch 006/100 | Loss 0.0461 | Win/lose count 3.5/4.0 (-0.5)\n",
      "Epoch 007/100 | Loss 0.0299 | Win/lose count 5.0/3.0 (2.0)\n",
      "Epoch 008/100 | Loss 0.0737 | Win/lose count 7.5/5.0 (2.5)\n",
      "Epoch 009/100 | Loss 0.0254 | Win/lose count 4.5/2.0 (2.5)\n",
      "Epoch 010/100 | Loss 0.0457 | Win/lose count 4.0/6.0 (-2.0)\n",
      "Epoch 011/100 | Loss 0.0520 | Win/lose count 7.0/12.0 (-5.0)\n",
      "Epoch 012/100 | Loss 0.0353 | Win/lose count 3.5/1.0 (2.5)\n",
      "Epoch 013/100 | Loss 0.0571 | Win/lose count 4.0/7.0 (-3.0)\n",
      "Epoch 014/100 | Loss 0.0294 | Win/lose count 4.5/5.0 (-0.5)\n",
      "Epoch 015/100 | Loss 0.0567 | Win/lose count 4.5/6.0 (-1.5)\n",
      "Epoch 016/100 | Loss 0.0332 | Win/lose count 4.0/6.0 (-2.0)\n",
      "Epoch 017/100 | Loss 0.0416 | Win/lose count 1.0/2.0 (-1.0)\n",
      "Epoch 018/100 | Loss 0.0356 | Win/lose count 1.5/2.0 (-0.5)\n",
      "Epoch 019/100 | Loss 0.0429 | Win/lose count 4.0/5.0 (-1.0)\n",
      "Epoch 020/100 | Loss 0.0422 | Win/lose count 5.0/5.0 (0.0)\n",
      "Epoch 021/100 | Loss 0.0169 | Win/lose count 3.0/4.0 (-1.0)\n",
      "Epoch 022/100 | Loss 0.0389 | Win/lose count 3.0/0 (3.0)\n",
      "Epoch 023/100 | Loss 0.0479 | Win/lose count 8.5/5.0 (3.5)\n",
      "Epoch 024/100 | Loss 0.0759 | Win/lose count 2.0/4.0 (-2.0)\n",
      "Epoch 025/100 | Loss 0.0343 | Win/lose count 4.0/6.0 (-2.0)\n",
      "Epoch 026/100 | Loss 0.0265 | Win/lose count 5.5/3.0 (2.5)\n",
      "Epoch 027/100 | Loss 0.0223 | Win/lose count 6.0/8.0 (-2.0)\n",
      "Epoch 028/100 | Loss 0.0400 | Win/lose count 4.0/7.0 (-3.0)\n",
      "Epoch 029/100 | Loss 0.0617 | Win/lose count 2.0/4.0 (-2.0)\n",
      "Epoch 030/100 | Loss 0.0460 | Win/lose count 3.0/3.0 (0.0)\n",
      "Epoch 031/100 | Loss 0.0550 | Win/lose count 5.5/7.0 (-1.5)\n",
      "Epoch 032/100 | Loss 0.0269 | Win/lose count 3.5/5.0 (-1.5)\n",
      "Epoch 033/100 | Loss 0.0296 | Win/lose count 4.0/6.0 (-2.0)\n",
      "Epoch 034/100 | Loss 0.0387 | Win/lose count 2.0/1.0 (1.0)\n",
      "Epoch 035/100 | Loss 0.0448 | Win/lose count 3.0/8.0 (-5.0)\n",
      "Epoch 036/100 | Loss 0.0380 | Win/lose count 5.0/9.0 (-4.0)\n",
      "Epoch 037/100 | Loss 0.0453 | Win/lose count 6.0/1.0 (5.0)\n",
      "Epoch 038/100 | Loss 0.0447 | Win/lose count 1.5/6.0 (-4.5)\n",
      "Epoch 039/100 | Loss 0.0159 | Win/lose count 3.0/1.0 (2.0)\n",
      "Epoch 040/100 | Loss 0.0412 | Win/lose count 7.5/6.0 (1.5)\n",
      "Epoch 041/100 | Loss 0.0139 | Win/lose count 2.0/5.0 (-3.0)\n",
      "Epoch 042/100 | Loss 0.0254 | Win/lose count 3.5/12.0 (-8.5)\n",
      "Epoch 043/100 | Loss 0.0555 | Win/lose count 4.5/9.0 (-4.5)\n",
      "Epoch 044/100 | Loss 0.0427 | Win/lose count 6.0/5.0 (1.0)\n",
      "Epoch 045/100 | Loss 0.0261 | Win/lose count 2.0/2.0 (0.0)\n",
      "Epoch 046/100 | Loss 0.0370 | Win/lose count 4.0/4.0 (0.0)\n",
      "Epoch 047/100 | Loss 0.0487 | Win/lose count 6.5/10.0 (-3.5)\n",
      "Epoch 048/100 | Loss 0.0325 | Win/lose count 6.0/10.0 (-4.0)\n",
      "Epoch 049/100 | Loss 0.0260 | Win/lose count 6.0/9.0 (-3.0)\n",
      "Epoch 050/100 | Loss 0.0228 | Win/lose count 7.5/4.0 (3.5)\n",
      "Epoch 051/100 | Loss 0.0262 | Win/lose count 6.0/2.0 (4.0)\n",
      "Epoch 052/100 | Loss 0.0257 | Win/lose count 5.0/7.0 (-2.0)\n",
      "Epoch 053/100 | Loss 0.0424 | Win/lose count 4.0/4.0 (0.0)\n",
      "Epoch 054/100 | Loss 0.0285 | Win/lose count 4.0/4.0 (0.0)\n",
      "Epoch 055/100 | Loss 0.0693 | Win/lose count 5.5/8.0 (-2.5)\n",
      "Epoch 056/100 | Loss 0.0418 | Win/lose count 4.0/5.0 (-1.0)\n",
      "Epoch 057/100 | Loss 0.0241 | Win/lose count 4.5/6.0 (-1.5)\n",
      "Epoch 058/100 | Loss 0.0063 | Win/lose count 2.5/5.0 (-2.5)\n",
      "Epoch 059/100 | Loss 0.0287 | Win/lose count 3.0/2.0 (1.0)\n",
      "Epoch 060/100 | Loss 0.0143 | Win/lose count 5.0/3.0 (2.0)\n",
      "Epoch 061/100 | Loss 0.0260 | Win/lose count 7.0/11.0 (-4.0)\n",
      "Epoch 062/100 | Loss 0.0304 | Win/lose count 5.5/3.0 (2.5)\n",
      "Epoch 063/100 | Loss 0.0323 | Win/lose count 6.5/7.0 (-0.5)\n",
      "Epoch 064/100 | Loss 0.0223 | Win/lose count 3.0/4.0 (-1.0)\n",
      "Epoch 065/100 | Loss 0.0425 | Win/lose count 8.0/4.0 (4.0)\n",
      "Epoch 066/100 | Loss 0.0492 | Win/lose count 5.5/9.0 (-3.5)\n",
      "Epoch 067/100 | Loss 0.0384 | Win/lose count 4.5/11.0 (-6.5)\n",
      "Epoch 068/100 | Loss 0.0301 | Win/lose count 3.5/7.0 (-3.5)\n",
      "Epoch 069/100 | Loss 0.0277 | Win/lose count 5.0/9.0 (-4.0)\n",
      "Epoch 070/100 | Loss 0.0756 | Win/lose count 5.5/4.0 (1.5)\n",
      "Epoch 071/100 | Loss 0.0134 | Win/lose count 3.0/3.0 (0.0)\n",
      "Epoch 072/100 | Loss 0.0482 | Win/lose count 7.5/8.0 (-0.5)\n",
      "Epoch 073/100 | Loss 0.0197 | Win/lose count 4.0/2.0 (2.0)\n",
      "Epoch 074/100 | Loss 0.0503 | Win/lose count 3.0/3.0 (0.0)\n",
      "Epoch 075/100 | Loss 0.0207 | Win/lose count 3.5/4.0 (-0.5)\n",
      "Epoch 076/100 | Loss 0.0418 | Win/lose count 6.0/3.0 (3.0)\n",
      "Epoch 077/100 | Loss 0.0482 | Win/lose count 4.0/5.0 (-1.0)\n",
      "Epoch 078/100 | Loss 0.0238 | Win/lose count 4.5/4.0 (0.5)\n",
      "Epoch 079/100 | Loss 0.0397 | Win/lose count 3.5/4.0 (-0.5)\n",
      "Epoch 080/100 | Loss 0.0273 | Win/lose count 1.5/5.0 (-3.5)\n",
      "Epoch 081/100 | Loss 0.0237 | Win/lose count 4.5/4.0 (0.5)\n",
      "Epoch 082/100 | Loss 0.0459 | Win/lose count 4.5/6.0 (-1.5)\n",
      "Epoch 083/100 | Loss 0.0294 | Win/lose count 9.0/9.0 (0.0)\n",
      "Epoch 084/100 | Loss 0.0612 | Win/lose count 6.5/8.0 (-1.5)\n",
      "Epoch 085/100 | Loss 0.0309 | Win/lose count 2.5/2.0 (0.5)\n",
      "Epoch 086/100 | Loss 0.0623 | Win/lose count 3.5/4.0 (-0.5)\n",
      "Epoch 087/100 | Loss 0.0120 | Win/lose count 5.0/5.0 (0.0)\n",
      "Epoch 088/100 | Loss 0.0408 | Win/lose count 4.5/5.0 (-0.5)\n",
      "Epoch 089/100 | Loss 0.0505 | Win/lose count 6.5/3.0 (3.5)\n",
      "Epoch 090/100 | Loss 0.0398 | Win/lose count 2.5/4.0 (-1.5)\n",
      "Epoch 091/100 | Loss 0.0456 | Win/lose count 9.0/8.0 (1.0)\n",
      "Epoch 092/100 | Loss 0.0454 | Win/lose count 2.0/5.0 (-3.0)\n",
      "Epoch 093/100 | Loss 0.0255 | Win/lose count 4.0/7.0 (-3.0)\n",
      "Epoch 094/100 | Loss 0.0461 | Win/lose count 5.5/1.0 (4.5)\n",
      "Epoch 095/100 | Loss 0.0196 | Win/lose count 2.5/3.0 (-0.5)\n",
      "Epoch 096/100 | Loss 0.0391 | Win/lose count 5.5/7.0 (-1.5)\n",
      "Epoch 097/100 | Loss 0.0559 | Win/lose count 7.5/8.0 (-0.5)\n",
      "Epoch 098/100 | Loss 0.0581 | Win/lose count 6.0/5.0 (1.0)\n",
      "Epoch 099/100 | Loss 0.0567 | Win/lose count 2.5/5.0 (-2.5)\n"
     ]
    }
   ],
   "source": [
    "# parameters\n",
    "T=50\n",
    "epochs_train=100 # set small when debugging\n",
    "\n",
    "env = Environment(grid_size=size, max_time=T, temperature=0.4)\n",
    "agent = DQN_FC(size, lr=.1, epsilon = 0.4, memory_size=2000, batch_size = 32, n_state=2)\n",
    "loss = train(agent, env, epochs_train, prefix='fc_train10_')\n",
    "#HTML(display_videos('fc_train10.mp4'))"
   ]
  },
  {
   "cell_type": "code",
   "execution_count": 53,
   "metadata": {},
   "outputs": [
    {
     "data": {
      "image/png": "[encoded data removed]",
      "text/plain": [
       "<Figure size 864x576 with 1 Axes>"
      ]
     },
     "metadata": {
      "needs_background": "light"
     },
     "output_type": "display_data"
    }
   ],
   "source": [
    "import matplotlib.pyplot as plt\n",
    "plt.figure(figsize=(12,8))\n",
    "plt.plot(loss)\n",
    "plt.show()"
   ]
  },
  {
   "cell_type": "markdown",
   "metadata": {},
   "source": [
    "**Interpretation**: The loss presents a strong variability which proves the learning is highly instable. The fully connected framework might be too simplistic to capture representation of spatial contexte of the agent. "
   ]
  },
  {
   "cell_type": "markdown",
   "metadata": {},
   "source": [
    "***\n",
    "***\n",
    "__Question 8__ Implement the DQN training algorithm using a CNN (for example, 2 convolutional layers and one final fully connected layer)."
   ]
  },
  {
   "cell_type": "code",
   "execution_count": 69,
   "metadata": {},
   "outputs": [],
   "source": [
    "class DQN_CNN(DQN):\n",
    "    def __init__(self, *args,lr=0.1,**kwargs):\n",
    "        super(DQN_CNN, self).__init__(*args,**kwargs)\n",
    "        \n",
    "        model = keras.models.Sequential()\n",
    "        model.add(Conv2D(32, (2, 2), input_shape=(5,5,self.n_state)))\n",
    "        model.add(Conv2D(64, (2, 2)))\n",
    "        #model.add(Dropout(0.5))\n",
    "        #model.add(Conv2D(128, (2, 2), activation='relu'))\n",
    "        model.add(Flatten())\n",
    "        model.add(Dense(1024, activation='relu'))\n",
    "        model.add(Dropout(0.5))\n",
    "        model.add(Dense(4,activation='tanh'))\n",
    "        \n",
    "        model.compile(sgd(lr=lr, decay=1e-4, momentum=0.0), \"mse\")\n",
    "        self.model = model\n",
    "        print(model.summary())\n",
    "        \n",
    "    def learned_act(self, s):\n",
    "        return np.argmax(self.model.predict(s.reshape((1,5,5,self.n_state))))"
   ]
  },
  {
   "cell_type": "code",
   "execution_count": 70,
   "metadata": {},
   "outputs": [
    {
     "name": "stdout",
     "output_type": "stream",
     "text": [
      "_________________________________________________________________\n",
      "Layer (type)                 Output Shape              Param #   \n",
      "=================================================================\n",
      "conv2d_23 (Conv2D)           (None, 4, 4, 32)          288       \n",
      "_________________________________________________________________\n",
      "conv2d_24 (Conv2D)           (None, 3, 3, 64)          8256      \n",
      "_________________________________________________________________\n",
      "flatten_17 (Flatten)         (None, 576)               0         \n",
      "_________________________________________________________________\n",
      "dense_43 (Dense)             (None, 1024)              590848    \n",
      "_________________________________________________________________\n",
      "dropout_29 (Dropout)         (None, 1024)              0         \n",
      "_________________________________________________________________\n",
      "dense_44 (Dense)             (None, 4)                 4100      \n",
      "=================================================================\n",
      "Total params: 603,492\n",
      "Trainable params: 603,492\n",
      "Non-trainable params: 0\n",
      "_________________________________________________________________\n",
      "None\n",
      "Epoch 000/050 | Loss 0.0176 | Win/lose count 3.5/2.0 (1.5)\n",
      "Epoch 001/050 | Loss 0.0189 | Win/lose count 1.5/6.0 (-4.5)\n",
      "Epoch 002/050 | Loss 0.0196 | Win/lose count 0.5/1.0 (-0.5)\n",
      "Epoch 003/050 | Loss 0.0265 | Win/lose count 1.5/0 (1.5)\n",
      "Epoch 004/050 | Loss 0.0217 | Win/lose count 3.0/3.0 (0.0)\n",
      "Epoch 005/050 | Loss 0.0162 | Win/lose count 3.0/3.0 (0.0)\n",
      "Epoch 006/050 | Loss 0.0177 | Win/lose count 2.0/7.0 (-5.0)\n",
      "Epoch 007/050 | Loss 0.0237 | Win/lose count 2.0/1.0 (1.0)\n",
      "Epoch 008/050 | Loss 0.0248 | Win/lose count 3.5/0 (3.5)\n",
      "Epoch 009/050 | Loss 0.0123 | Win/lose count 0.5/4.0 (-3.5)\n",
      "Epoch 010/050 | Loss 0.0152 | Win/lose count 1.5/1.0 (0.5)\n",
      "Epoch 011/050 | Loss 0.0204 | Win/lose count 2.5/0 (2.5)\n",
      "Epoch 012/050 | Loss 0.0152 | Win/lose count 3.0/1.0 (2.0)\n",
      "Epoch 013/050 | Loss 0.0120 | Win/lose count 4.0/4.0 (0.0)\n",
      "Epoch 014/050 | Loss 0.0064 | Win/lose count 4.0/0 (4.0)\n",
      "Epoch 015/050 | Loss 0.0176 | Win/lose count 1.0/1.0 (0.0)\n",
      "Epoch 016/050 | Loss 0.0109 | Win/lose count 0/4.0 (-4.0)\n",
      "Epoch 017/050 | Loss 0.0111 | Win/lose count 3.5/3.0 (0.5)\n",
      "Epoch 018/050 | Loss 0.0311 | Win/lose count 2.0/3.0 (-1.0)\n",
      "Epoch 019/050 | Loss 0.0289 | Win/lose count 2.0/3.0 (-1.0)\n",
      "Epoch 020/050 | Loss 0.0176 | Win/lose count 2.0/1.0 (1.0)\n",
      "Epoch 021/050 | Loss 0.0198 | Win/lose count 0.5/0 (0.5)\n",
      "Epoch 022/050 | Loss 0.0127 | Win/lose count 2.5/2.0 (0.5)\n",
      "Epoch 023/050 | Loss 0.0289 | Win/lose count 3.0/2.0 (1.0)\n",
      "Epoch 024/050 | Loss 0.0206 | Win/lose count 2.5/5.0 (-2.5)\n",
      "Epoch 025/050 | Loss 0.0078 | Win/lose count 1.0/3.0 (-2.0)\n",
      "Epoch 026/050 | Loss 0.0139 | Win/lose count 2.0/3.0 (-1.0)\n",
      "Epoch 027/050 | Loss 0.0118 | Win/lose count 1.5/1.0 (0.5)\n",
      "Epoch 028/050 | Loss 0.0139 | Win/lose count 4.0/3.0 (1.0)\n",
      "Epoch 029/050 | Loss 0.0097 | Win/lose count 1.0/1.0 (0.0)\n",
      "Epoch 030/050 | Loss 0.0217 | Win/lose count 4.0/2.0 (2.0)\n",
      "Epoch 031/050 | Loss 0.0031 | Win/lose count 2.5/2.0 (0.5)\n",
      "Epoch 032/050 | Loss 0.0196 | Win/lose count 4.5/7.0 (-2.5)\n",
      "Epoch 033/050 | Loss 0.0117 | Win/lose count 4.5/1.0 (3.5)\n",
      "Epoch 034/050 | Loss 0.0268 | Win/lose count 2.0/3.0 (-1.0)\n",
      "Epoch 035/050 | Loss 0.0113 | Win/lose count 1.5/3.0 (-1.5)\n",
      "Epoch 036/050 | Loss 0.0231 | Win/lose count 3.0/5.0 (-2.0)\n",
      "Epoch 037/050 | Loss 0.0034 | Win/lose count 5.0/2.0 (3.0)\n",
      "Epoch 038/050 | Loss 0.0091 | Win/lose count 4.0/1.0 (3.0)\n",
      "Epoch 039/050 | Loss 0.0227 | Win/lose count 7.5/1.0 (6.5)\n",
      "Epoch 040/050 | Loss 0.0079 | Win/lose count 2.0/1.0 (1.0)\n",
      "Epoch 041/050 | Loss 0.0183 | Win/lose count 5.0/1.0 (4.0)\n",
      "Epoch 042/050 | Loss 0.0165 | Win/lose count 1.5/3.0 (-1.5)\n",
      "Epoch 043/050 | Loss 0.0124 | Win/lose count 7.0/2.0 (5.0)\n",
      "Epoch 044/050 | Loss 0.0129 | Win/lose count 3.5/1.0 (2.5)\n",
      "Epoch 045/050 | Loss 0.0076 | Win/lose count 2.5/1.0 (1.5)\n",
      "Epoch 046/050 | Loss 0.0148 | Win/lose count 3.5/1.0 (2.5)\n",
      "Epoch 047/050 | Loss 0.0208 | Win/lose count 3.5/1.0 (2.5)\n",
      "Epoch 048/050 | Loss 0.0312 | Win/lose count 1.5/2.0 (-0.5)\n",
      "Epoch 049/050 | Loss 0.0119 | Win/lose count 5.0/5.0 (0.0)\n"
     ]
    }
   ],
   "source": [
    "T=50\n",
    "epochs_train=50\n",
    "\n",
    "env = Environment(grid_size=size, max_time=T, temperature=0.2)\n",
    "agent = DQN_CNN(size, lr=.1, epsilon = 0.4, memory_size=2000, batch_size = 32)\n",
    "loss = train(agent,env,epochs_train,prefix='cnn_train')\n"
   ]
  },
  {
   "cell_type": "code",
   "execution_count": 71,
   "metadata": {},
   "outputs": [
    {
     "data": {
      "image/png": "[encoded data removed]",
      "text/plain": [
       "<Figure size 864x576 with 1 Axes>"
      ]
     },
     "metadata": {
      "needs_background": "light"
     },
     "output_type": "display_data"
    }
   ],
   "source": [
    "plt.figure(figsize=(12,8))\n",
    "plt.plot(loss)\n",
    "plt.show()"
   ]
  },
  {
   "cell_type": "code",
   "execution_count": 72,
   "metadata": {},
   "outputs": [
    {
     "data": {
      "image/jpeg": "[encoded data removed]",
      "text/html": [
       "\n",
       "        <iframe\n",
       "            width=\"600\"\n",
       "            height=\"600\"\n",
       "            src=\"https://www.youtube.com/embed/W1mMNJzblZs\"\n",
       "            frameborder=\"0\"\n",
       "            allowfullscreen\n",
       "        ></iframe>\n",
       "        "
      ],
      "text/plain": [
       "<IPython.lib.display.YouTubeVideo at 0x1c2fd08780>"
      ]
     },
     "execution_count": 72,
     "metadata": {},
     "output_type": "execute_result"
    }
   ],
   "source": [
    "YouTubeVideo('W1mMNJzblZs',width=600, height=600)"
   ]
  },
  {
   "cell_type": "markdown",
   "metadata": {},
   "source": [
    "**Interpretation**: Again, the learning is highly instable. However, the CNN yealds far better results in terms of behavior/score for the agent. Interestingly, the use of a squashing function for the output of the network gives better results. "
   ]
  },
  {
   "cell_type": "markdown",
   "metadata": {},
   "source": [
    "***\n",
    "***\n",
    "__Question 9__ Test both algorithms and compare their performances. Which issue(s) do you observe? Observe also different behaviors by changing the temperature."
   ]
  },
  {
   "cell_type": "code",
   "execution_count": 77,
   "metadata": {},
   "outputs": [
    {
     "name": "stdout",
     "output_type": "stream",
     "text": [
      "_________________________________________________________________\n",
      "Layer (type)                 Output Shape              Param #   \n",
      "=================================================================\n",
      "conv2d_29 (Conv2D)           (None, 4, 4, 32)          288       \n",
      "_________________________________________________________________\n",
      "conv2d_30 (Conv2D)           (None, 3, 3, 64)          8256      \n",
      "_________________________________________________________________\n",
      "flatten_21 (Flatten)         (None, 576)               0         \n",
      "_________________________________________________________________\n",
      "dense_53 (Dense)             (None, 1024)              590848    \n",
      "_________________________________________________________________\n",
      "dropout_34 (Dropout)         (None, 1024)              0         \n",
      "_________________________________________________________________\n",
      "dense_54 (Dense)             (None, 4)                 4100      \n",
      "=================================================================\n",
      "Total params: 603,492\n",
      "Trainable params: 603,492\n",
      "Non-trainable params: 0\n",
      "_________________________________________________________________\n",
      "None\n",
      "Test of the CNN\n",
      "Win/lose count 1.0/0. Average score (1.0)\n",
      "Win/lose count 0.5/0. Average score (0.75)\n",
      "Win/lose count 1.5/0. Average score (1.0)\n",
      "Win/lose count 0.5/0. Average score (0.875)\n",
      "Win/lose count 0.5/0. Average score (0.8)\n",
      "Win/lose count 3.0/0. Average score (1.1666666666666667)\n",
      "Win/lose count 2.5/0. Average score (1.3571428571428572)\n",
      "Win/lose count 2.0/0. Average score (1.4375)\n",
      "Win/lose count 0/0. Average score (1.2777777777777777)\n",
      "Win/lose count 0/0. Average score (1.15)\n",
      "Final score: 1.15\n",
      "Test of the FC\n",
      "Win/lose count 1.0/2.0. Average score (-1.0)\n",
      "Win/lose count 1.5/3.0. Average score (-1.25)\n",
      "Win/lose count 0.5/0. Average score (-0.6666666666666666)\n",
      "Win/lose count 1.0/0. Average score (-0.25)\n",
      "Win/lose count 0.5/0. Average score (-0.1)\n",
      "Win/lose count 0.5/0. Average score (0.0)\n",
      "Win/lose count 0.5/0. Average score (0.07142857142857142)\n",
      "Win/lose count 0/2.0. Average score (-0.1875)\n",
      "Win/lose count 2.5/0. Average score (0.1111111111111111)\n",
      "Win/lose count 1.5/2.0. Average score (0.05)\n",
      "Final score: 0.05\n"
     ]
    }
   ],
   "source": [
    "env = Environment(grid_size=size, max_time=T,temperature=0.2)\n",
    "\n",
    "agent_cnn = DQN_CNN(size, lr=.1, epsilon = 0.1, memory_size=2000, batch_size = 32)\n",
    "agent_cnn.load(name_weights='cnn_trainmodel.h5',name_model='cnn_trainmodel.json')\n",
    "\n",
    "agent_fc = DQN_FC(size, lr=.1, epsilon = 0.1, memory_size=2000, batch_size = 32)\n",
    "agent_fc.load(name_weights='fc_train10_model.h5',name_model='fc_train10_model.json')\n",
    "\n",
    "print('Test of the CNN')\n",
    "test(agent_cnn,env,epochs_test,prefix='cnn_test')\n",
    "print('Test of the FC')\n",
    "test(agent_fc,env,epochs_test,prefix='fc_test')"
   ]
  },
  {
   "cell_type": "markdown",
   "metadata": {},
   "source": [
    "#### CNN Test"
   ]
  },
  {
   "cell_type": "code",
   "execution_count": 78,
   "metadata": {},
   "outputs": [
    {
     "data": {
      "image/jpeg": "[encoded data removed]",
      "text/html": [
       "\n",
       "        <iframe\n",
       "            width=\"600\"\n",
       "            height=\"600\"\n",
       "            src=\"https://www.youtube.com/embed/324rJpqwT_g\"\n",
       "            frameborder=\"0\"\n",
       "            allowfullscreen\n",
       "        ></iframe>\n",
       "        "
      ],
      "text/plain": [
       "<IPython.lib.display.YouTubeVideo at 0x1c388dae80>"
      ]
     },
     "execution_count": 78,
     "metadata": {},
     "output_type": "execute_result"
    }
   ],
   "source": [
    "YouTubeVideo('324rJpqwT_g',width=600, height=600)"
   ]
  },
  {
   "cell_type": "markdown",
   "metadata": {},
   "source": [
    "#### Fully-connected test"
   ]
  },
  {
   "cell_type": "code",
   "execution_count": 66,
   "metadata": {},
   "outputs": [
    {
     "data": {
      "image/jpeg": "[encoded data removed]",
      "text/html": [
       "\n",
       "        <iframe\n",
       "            width=\"600\"\n",
       "            height=\"600\"\n",
       "            src=\"https://www.youtube.com/embed/o725EFRdgaw\"\n",
       "            frameborder=\"0\"\n",
       "            allowfullscreen\n",
       "        ></iframe>\n",
       "        "
      ],
      "text/plain": [
       "<IPython.lib.display.YouTubeVideo at 0x1c365a0940>"
      ]
     },
     "execution_count": 66,
     "metadata": {},
     "output_type": "execute_result"
    }
   ],
   "source": [
    "YouTubeVideo('o725EFRdgaw',width=600, height=600)"
   ]
  },
  {
   "cell_type": "markdown",
   "metadata": {},
   "source": [
    "<font color='blue'>\n",
    "    \n",
    "**Interpretation**:\n",
    "\n",
    "First of all, using a CNN is fully justified by the results that we observed as it allows a better spatial representation by the networks and hence allows better descions.\n",
    "\n",
    "The second observation to be made is that a higher epsilon ratio helps avoiding the phenomenon of agent oscillating over a position since it introduces more randomness.\n",
    "\n",
    "The third parameter of importane in the training process is the temperature. Our intuition is that the lower the temperature parameter, the harder it will be for the agent to devise a path that is worth taking. It seems that our experiments verify that assumption. Setting the temperature at 0.8 will result in a better exploration of the map during training and testing, since it can follow a path made by only red cases. Lowering the temperature to 0.2 \"freezes\" the agent to a part of the map for both of the networks.\n",
    "\n",
    "Eventually, a big problem of our agent is that it tends to restrict itself to the visit of only a subset of the map. This is due to its acuity grid that surround him but also because revisiting a path is not penalized in our formulation. Hence we should promote variation in the paths taken by the agent to let him eplore the map totally.  "
   ]
  },
  {
   "cell_type": "markdown",
   "metadata": {},
   "source": [
    "***\n",
    "\n",
    "The algorithm tends to not explore the map which can be an issue. We propose two ideas in order to encourage exploration:\n",
    "1. Incorporating a decreasing $\\epsilon$-greedy exploration. You can use the method ```set_epsilon```\n",
    "2. Append via the environment a new state that describes if a cell has been visited or not\n",
    "\n",
    "***\n",
    "__Question 10__ Design a new ```train_explore``` function and environment class ```EnvironmentExploring``` to tackle the issue of exploration.\n",
    "\n"
   ]
  },
  {
   "cell_type": "code",
   "execution_count": 60,
   "metadata": {},
   "outputs": [],
   "source": [
    "def train_explore(agent,env,epoch,prefix=''):\n",
    "    # Number of won games\n",
    "    score = 0\n",
    "    loss = 0\n",
    "    \n",
    "    decay_coeff = 0.99 \n",
    "    for e in range(epoch):\n",
    "        # At each epoch, we restart to a fresh game and get the initial state\n",
    "        state = env.reset()\n",
    "        # This assumes that the games will terminate\n",
    "        game_over = False\n",
    "\n",
    "        win = 0\n",
    "        lose = 0\n",
    "\n",
    "        while not game_over:\n",
    "            # The agent performs an action\n",
    "            \n",
    "            action = agent.act(state)\n",
    "            \n",
    "            agent.set_epsilon(agent.epsilon*decay_coeff)          \n",
    "            # Apply an action to the environment, get the next state, the reward\n",
    "            # and if the games end\n",
    "            prev_state = state\n",
    "            state, reward, game_over = env.act(action)\n",
    "\n",
    "            # Update the counters\n",
    "            if reward > 0:\n",
    "                win = round(win + reward,2)\n",
    "                \n",
    "            if reward < 0:\n",
    "                lose = round(lose - reward,2)\n",
    "\n",
    "            # Apply the reinforcement strategy\n",
    "            loss = agent.reinforce(prev_state, state, action, reward, game_over)\n",
    "\n",
    "        # Save as a mp4\n",
    "        if e % 10 == 0:\n",
    "            env.draw(prefix+str(e))\n",
    "\n",
    "        # Update stats\n",
    "        score += round(win-lose,2)\n",
    "        \n",
    "\n",
    "        print(\"Epoch {:03d}/{:03d} | Loss {:.4f} | Win/lose count {}/{} ({})\"\n",
    "              .format(e, epoch, loss, win, lose, win-lose))\n",
    "        agent.save(name_weights=prefix+'model.h5',name_model=prefix+'model.json')\n",
    "        \n",
    "class EnvironmentExploring(object):\n",
    "    def __init__(self, grid_size=10, max_time=500, temperature=0.1):\n",
    "        grid_size = grid_size+4\n",
    "        self.grid_size = grid_size\n",
    "        self.max_time = max_time\n",
    "        self.temperature = temperature\n",
    "\n",
    "        #board on which one plays\n",
    "        self.board = np.zeros((grid_size,grid_size))\n",
    "        self.position = np.zeros((grid_size,grid_size))\n",
    "        self.malus_position = np.zeros((grid_size,grid_size))\n",
    "\n",
    "        # coordinate of the rat\n",
    "        self.x = 0\n",
    "        self.y = 1\n",
    "\n",
    "        # self time\n",
    "        self.t = 0\n",
    "\n",
    "        self.scale=16\n",
    "\n",
    "        self.to_draw = np.zeros((max_time+2, grid_size*self.scale, grid_size*self.scale, 3))\n",
    "\n",
    "\n",
    "    def draw(self,e):\n",
    "        skvideo.io.vwrite(str(e) + '.mp4', self.to_draw)\n",
    "\n",
    "    def get_frame(self,t):\n",
    "        b = np.zeros((self.grid_size,self.grid_size,3))+128\n",
    "        b[self.board>0,0] = 256\n",
    "        b[self.board<0,2] = 256\n",
    "        b[self.x,self.y,:]= 256\n",
    "        b[-2:,:,:]=0\n",
    "        b[:,-2:,:]=0\n",
    "        b[:2,:,:]=0\n",
    "        b[:,:2,:]=0\n",
    "        \n",
    "        b =  cv2.resize(b, None, fx=self.scale, fy=self.scale, interpolation=cv2.INTER_NEAREST)\n",
    "\n",
    "        self.to_draw[t,:,:,:]=b\n",
    "\n",
    "\n",
    "    def act(self, action):\n",
    "        \"\"\"This function returns the new state, reward and decides if the\n",
    "        game ends.\"\"\"\n",
    "        \n",
    "        self.get_frame(int(self.t))\n",
    "\n",
    "        self.position = np.zeros((self.grid_size, self.grid_size))\n",
    "\n",
    "        self.position[0:2,:]= -1\n",
    "        self.position[:,0:2] = -1\n",
    "        self.position[-2:,:] = -1\n",
    "        self.position[:,-2:] = -1\n",
    "\n",
    "        self.position[self.x, self.y] = 1\n",
    "        if action == 0:\n",
    "            if self.x == self.grid_size-3:\n",
    "                self.x = self.x-1\n",
    "            else:\n",
    "                self.x = self.x + 1\n",
    "        elif action == 1:\n",
    "            if self.x == 2:\n",
    "                self.x = self.x+1\n",
    "            else:\n",
    "                self.x = self.x-1\n",
    "        elif action == 2:\n",
    "            if self.y == self.grid_size - 3:\n",
    "                self.y = self.y - 1\n",
    "            else:\n",
    "                self.y = self.y + 1\n",
    "        elif action == 3:\n",
    "            if self.y == 2:\n",
    "                self.y = self.y + 1\n",
    "            else:\n",
    "                self.y = self.y - 1\n",
    "        else:\n",
    "            RuntimeError('Error: action not recognized')\n",
    "\n",
    "        self.t = self.t + 1\n",
    "        \n",
    "        reward = 0\n",
    "        if train: \n",
    "            reward = -self.malus_position[self.x, self.y]\n",
    "        self.malus_position[self.x, self.y] = 0.5\n",
    "        \n",
    "        reward += self.board[self.x, self.y]\n",
    "        \n",
    "        self.board[self.x, self.y] = 0\n",
    "        game_over = self.t > self.max_time\n",
    "        state = np.concatenate((self.malus_position.reshape(self.grid_size, self.grid_size,1),\n",
    "                                        self.board.reshape(self.grid_size, self.grid_size,1),\n",
    "                                self.position.reshape(self.grid_size, self.grid_size,1)),axis=2)\n",
    "          \n",
    "        state = state[self.x-2:self.x+3,self.y-2:self.y+3,:]\n",
    "\n",
    "        return state, reward, game_over\n",
    "\n",
    "    def reset(self):\n",
    "        \"\"\"This function resets the game and returns the initial state\"\"\"\n",
    "\n",
    "        self.x = np.random.randint(3, self.grid_size-3, size=1)[0]\n",
    "        self.y = np.random.randint(3, self.grid_size-3, size=1)[0]\n",
    "        \n",
    "        bonus = 0.5*np.random.binomial(1,self.temperature,size=self.grid_size**2)\n",
    "        bonus = bonus.reshape(self.grid_size,self.grid_size)\n",
    "\n",
    "        malus = -1.0*np.random.binomial(1,self.temperature,size=self.grid_size**2)\n",
    "        malus = malus.reshape(self.grid_size, self.grid_size)\n",
    "\n",
    "        self.to_draw = np.zeros((self.max_time+2, self.grid_size*self.scale, self.grid_size*self.scale, 3))\n",
    "\n",
    "        malus[bonus>0]=0\n",
    "\n",
    "        self.board = bonus + malus\n",
    "        self.malus_position = np.zeros((self.grid_size,self.grid_size))\n",
    "        self.position = np.zeros((self.grid_size, self.grid_size))\n",
    "        self.position[0:2,:]= -1\n",
    "        self.position[:,0:2] = -1\n",
    "        self.position[-2:,:] = -1\n",
    "        self.position[:,-2:] = -1\n",
    "        self.board[self.x,self.y] = 0\n",
    "        self.t = 0\n",
    "\n",
    "        state = np.concatenate((self.malus_position.reshape(self.grid_size, self.grid_size,1),\n",
    "                                        self.board.reshape(self.grid_size, self.grid_size,1),\n",
    "                                self.position.reshape(self.grid_size, self.grid_size,1)),axis=2)\n",
    "\n",
    "        state = state[self.x - 2:self.x + 3, self.y - 2:self.y + 3, :]\n",
    "        return state"
   ]
  },
  {
   "cell_type": "code",
   "execution_count": 74,
   "metadata": {},
   "outputs": [
    {
     "name": "stdout",
     "output_type": "stream",
     "text": [
      "_________________________________________________________________\n",
      "Layer (type)                 Output Shape              Param #   \n",
      "=================================================================\n",
      "conv2d_27 (Conv2D)           (None, 4, 4, 32)          416       \n",
      "_________________________________________________________________\n",
      "conv2d_28 (Conv2D)           (None, 3, 3, 64)          8256      \n",
      "_________________________________________________________________\n",
      "flatten_20 (Flatten)         (None, 576)               0         \n",
      "_________________________________________________________________\n",
      "dense_51 (Dense)             (None, 1024)              590848    \n",
      "_________________________________________________________________\n",
      "dropout_33 (Dropout)         (None, 1024)              0         \n",
      "_________________________________________________________________\n",
      "dense_52 (Dense)             (None, 4)                 4100      \n",
      "=================================================================\n",
      "Total params: 603,620\n",
      "Trainable params: 603,620\n",
      "Non-trainable params: 0\n",
      "_________________________________________________________________\n",
      "None\n",
      "Epoch 000/050 | Loss 0.0459 | Win/lose count 13.0/32.5 (-19.5)\n",
      "Epoch 001/050 | Loss 0.0426 | Win/lose count 8.5/34.5 (-26.0)\n",
      "Epoch 002/050 | Loss 0.0416 | Win/lose count 15.0/28.0 (-13.0)\n",
      "Epoch 003/050 | Loss 0.0463 | Win/lose count 4.5/44.0 (-39.5)\n",
      "Epoch 004/050 | Loss 0.0335 | Win/lose count 11.5/30.5 (-19.0)\n",
      "Epoch 005/050 | Loss 0.0536 | Win/lose count 12.0/34.5 (-22.5)\n",
      "Epoch 006/050 | Loss 0.0558 | Win/lose count 11.0/32.5 (-21.5)\n",
      "Epoch 007/050 | Loss 0.0465 | Win/lose count 17.5/25.5 (-8.0)\n",
      "Epoch 008/050 | Loss 0.0554 | Win/lose count 14.0/28.0 (-14.0)\n",
      "Epoch 009/050 | Loss 0.0525 | Win/lose count 20.5/18.5 (2.0)\n",
      "Epoch 010/050 | Loss 0.0746 | Win/lose count 13.5/30.5 (-17.0)\n",
      "Epoch 011/050 | Loss 0.0518 | Win/lose count 8.5/37.5 (-29.0)\n",
      "Epoch 012/050 | Loss 0.0516 | Win/lose count 25.0/3.0 (22.0)\n",
      "Epoch 013/050 | Loss 0.0481 | Win/lose count 28.0/11.5 (16.5)\n",
      "Epoch 014/050 | Loss 0.0440 | Win/lose count 27.5/3.0 (24.5)\n",
      "Epoch 015/050 | Loss 0.0603 | Win/lose count 29.0/6.5 (22.5)\n",
      "Epoch 016/050 | Loss 0.0417 | Win/lose count 28.0/7.5 (20.5)\n",
      "Epoch 017/050 | Loss 0.0438 | Win/lose count 28.0/7.0 (21.0)\n",
      "Epoch 018/050 | Loss 0.0623 | Win/lose count 28.0/8.0 (20.0)\n",
      "Epoch 019/050 | Loss 0.0462 | Win/lose count 23.5/13.5 (10.0)\n",
      "Epoch 020/050 | Loss 0.0249 | Win/lose count 25.5/12.0 (13.5)\n",
      "Epoch 021/050 | Loss 0.0470 | Win/lose count 27.0/9.0 (18.0)\n",
      "Epoch 022/050 | Loss 0.0351 | Win/lose count 26.0/6.5 (19.5)\n",
      "Epoch 023/050 | Loss 0.0271 | Win/lose count 28.5/8.0 (20.5)\n",
      "Epoch 024/050 | Loss 0.0482 | Win/lose count 11.0/33.0 (-22.0)\n",
      "Epoch 025/050 | Loss 0.0455 | Win/lose count 26.0/5.0 (21.0)\n",
      "Epoch 026/050 | Loss 0.0499 | Win/lose count 31.0/2.5 (28.5)\n",
      "Epoch 027/050 | Loss 0.0472 | Win/lose count 21.0/7.0 (14.0)\n",
      "Epoch 028/050 | Loss 0.0316 | Win/lose count 32.0/3.5 (28.5)\n",
      "Epoch 029/050 | Loss 0.0352 | Win/lose count 30.5/8.0 (22.5)\n",
      "Epoch 030/050 | Loss 0.0364 | Win/lose count 25.5/7.5 (18.0)\n",
      "Epoch 031/050 | Loss 0.0466 | Win/lose count 28.5/5.0 (23.5)\n",
      "Epoch 032/050 | Loss 0.0353 | Win/lose count 25.5/7.5 (18.0)\n",
      "Epoch 033/050 | Loss 0.0396 | Win/lose count 35.0/7.5 (27.5)\n",
      "Epoch 034/050 | Loss 0.0362 | Win/lose count 28.0/5.5 (22.5)\n",
      "Epoch 035/050 | Loss 0.0358 | Win/lose count 30.5/1.5 (29.0)\n",
      "Epoch 036/050 | Loss 0.0359 | Win/lose count 30.0/5.5 (24.5)\n",
      "Epoch 037/050 | Loss 0.0358 | Win/lose count 29.5/5.5 (24.0)\n",
      "Epoch 038/050 | Loss 0.0366 | Win/lose count 25.0/7.0 (18.0)\n",
      "Epoch 039/050 | Loss 0.0314 | Win/lose count 27.0/12.5 (14.5)\n",
      "Epoch 040/050 | Loss 0.0305 | Win/lose count 31.0/5.5 (25.5)\n",
      "Epoch 041/050 | Loss 0.0435 | Win/lose count 29.5/5.0 (24.5)\n",
      "Epoch 042/050 | Loss 0.0439 | Win/lose count 29.5/3.5 (26.0)\n",
      "Epoch 043/050 | Loss 0.0335 | Win/lose count 28.0/10.0 (18.0)\n",
      "Epoch 044/050 | Loss 0.0436 | Win/lose count 29.0/4.5 (24.5)\n",
      "Epoch 045/050 | Loss 0.0563 | Win/lose count 31.5/4.5 (27.0)\n",
      "Epoch 046/050 | Loss 0.0358 | Win/lose count 24.5/4.5 (20.0)\n",
      "Epoch 047/050 | Loss 0.0268 | Win/lose count 33.5/4.0 (29.5)\n",
      "Epoch 048/050 | Loss 0.0482 | Win/lose count 34.0/6.0 (28.0)\n",
      "Epoch 049/050 | Loss 0.0456 | Win/lose count 26.0/10.5 (15.5)\n"
     ]
    }
   ],
   "source": [
    "# Training\n",
    "T = 100\n",
    "epochs_train = 50\n",
    "env = EnvironmentExploring(grid_size=size, max_time=T, temperature=0.4)\n",
    "agent = DQN_CNN(size, lr=.1, epsilon = 0.1, memory_size=2000, batch_size = 32,n_state=3)\n",
    "train_explore(agent, env, epochs_train, prefix='cnn_train_explore')"
   ]
  },
  {
   "cell_type": "markdown",
   "metadata": {},
   "source": [
    "#### CNN train explore"
   ]
  },
  {
   "cell_type": "code",
   "execution_count": 75,
   "metadata": {},
   "outputs": [
    {
     "data": {
      "image/jpeg": "[encoded data removed]",
      "text/html": [
       "\n",
       "        <iframe\n",
       "            width=\"600\"\n",
       "            height=\"600\"\n",
       "            src=\"https://www.youtube.com/embed/kqvC9E-J-Yk\"\n",
       "            frameborder=\"0\"\n",
       "            allowfullscreen\n",
       "        ></iframe>\n",
       "        "
      ],
      "text/plain": [
       "<IPython.lib.display.YouTubeVideo at 0x1c32915dd8>"
      ]
     },
     "execution_count": 75,
     "metadata": {},
     "output_type": "execute_result"
    }
   ],
   "source": [
    "YouTubeVideo('kqvC9E-J-Yk',width=600, height=600)"
   ]
  },
  {
   "cell_type": "code",
   "execution_count": 76,
   "metadata": {},
   "outputs": [
    {
     "name": "stdout",
     "output_type": "stream",
     "text": [
      "Win/lose count 30.0/2.0. Average score (28.0)\n",
      "Win/lose count 30.5/2.5. Average score (28.0)\n",
      "Win/lose count 29.0/6.0. Average score (26.333333333333332)\n",
      "Win/lose count 31.0/2.5. Average score (26.875)\n",
      "Win/lose count 26.5/5.0. Average score (25.8)\n",
      "Win/lose count 31.5/3.5. Average score (26.166666666666668)\n",
      "Win/lose count 29.5/7.5. Average score (25.571428571428573)\n",
      "Win/lose count 27.5/4.0. Average score (25.3125)\n",
      "Win/lose count 31.5/3.0. Average score (25.666666666666668)\n",
      "Win/lose count 26.5/9.0. Average score (24.85)\n",
      "Final score: 24.85\n"
     ]
    }
   ],
   "source": [
    "# Evaluation\n",
    "test(agent,env,epochs_test,prefix='cnn_test_explore')"
   ]
  },
  {
   "cell_type": "markdown",
   "metadata": {},
   "source": [
    "#### CNN test explore"
   ]
  },
  {
   "cell_type": "code",
   "execution_count": 64,
   "metadata": {},
   "outputs": [
    {
     "data": {
      "image/jpeg": "[encoded data removed]",
      "text/html": [
       "\n",
       "        <iframe\n",
       "            width=\"600\"\n",
       "            height=\"600\"\n",
       "            src=\"https://www.youtube.com/embed/oRuL1pqEI4k\"\n",
       "            frameborder=\"0\"\n",
       "            allowfullscreen\n",
       "        ></iframe>\n",
       "        "
      ],
      "text/plain": [
       "<IPython.lib.display.YouTubeVideo at 0x1c2fd08a58>"
      ]
     },
     "execution_count": 64,
     "metadata": {},
     "output_type": "execute_result"
    }
   ],
   "source": [
    "YouTubeVideo('oRuL1pqEI4k',width=600, height=600)"
   ]
  },
  {
   "cell_type": "markdown",
   "metadata": {},
   "source": [
    "***\n",
    "***\n",
    "__BONUS question__ Use the expert DQN from the previous question to generate some winning games. Train a model that mimicks its behavior. Compare the performances."
   ]
  },
  {
   "cell_type": "markdown",
   "metadata": {},
   "source": [
    "***"
   ]
  }
 ],
 "metadata": {
  "anaconda-cloud": {},
  "kernelspec": {
   "display_name": "Python 3",
   "language": "python",
   "name": "python3"
  },
  "language_info": {
   "codemirror_mode": {
    "name": "ipython",
    "version": 3
   },
   "file_extension": ".py",
   "mimetype": "text/x-python",
   "name": "python",
   "nbconvert_exporter": "python",
   "pygments_lexer": "ipython3",
   "version": "3.5.6"
  }
 },
 "nbformat": 4,
 "nbformat_minor": 2
}
