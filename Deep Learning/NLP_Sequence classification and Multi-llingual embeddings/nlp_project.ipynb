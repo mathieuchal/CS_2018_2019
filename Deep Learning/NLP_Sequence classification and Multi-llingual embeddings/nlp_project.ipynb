{
 "cells": [
  {
   "cell_type": "markdown",
   "metadata": {},
   "source": [
    "# Deep Learning for NLP - Project"
   ]
  },
  {
   "cell_type": "markdown",
   "metadata": {},
   "source": [
    "RULES:\n",
    "\n",
    "* Do not create any additional cell\n",
    "\n",
    "* Fill in the blanks\n",
    "\n",
    "* All cells should be runnable (modulo trivial compatibility bugs that we'd fix)\n",
    "\n",
    "* 4 / 20 points will be allocated to the clarity of your code\n",
    "\n",
    "* Efficient code will have a bonus\n",
    "\n",
    "DELIVERABLE:\n",
    "\n",
    "* this notebook\n",
    "* the predictions of the SST test set\n",
    "\n",
    "DO NOT INCLUDE THE DATASETS IN THE DELIVERABLE.."
   ]
  },
  {
   "cell_type": "code",
   "execution_count": 2,
   "metadata": {},
   "outputs": [],
   "source": [
    "import io\n",
    "import os\n",
    "import numpy as np\n",
    "import scipy\n",
    "import matplotlib.pyplot as plt"
   ]
  },
  {
   "cell_type": "code",
   "execution_count": 3,
   "metadata": {},
   "outputs": [],
   "source": [
    "PATH_TO_DATA = \"/Users/chalvidalm/Documents/3A OMA/Deep learning/nlp_project/data/\""
   ]
  },
  {
   "cell_type": "markdown",
   "metadata": {},
   "source": [
    "# 1) Monolingual (English) word embeddings "
   ]
  },
  {
   "cell_type": "code",
   "execution_count": 5,
   "metadata": {},
   "outputs": [],
   "source": [
    "class Word2vec():\n",
    "    def __init__(self, fname, nmax=100000):\n",
    "        self.load_wordvec(fname, nmax)\n",
    "        self.id2word = dict(enumerate(self.word2vec))\n",
    "        self.word2id = {v: k for k, v in self.id2word.items()}\n",
    "        self.embeddings = np.array(list(self.word2vec.values()))\n",
    "    \n",
    "    def load_wordvec(self, fname, nmax):\n",
    "        self.word2vec = {}\n",
    "        with io.open(fname, encoding='utf-8') as f:\n",
    "            next(f)\n",
    "            for i, line in enumerate(f):\n",
    "                word, vec = line.split(' ', 1)\n",
    "                self.word2vec[word] = np.fromstring(vec, sep=' ') # hypothesis : it shouldn't exist any duplicate in the parsed list\n",
    "                if i == (nmax - 1):\n",
    "                    break\n",
    "        print('Loaded %s pretrained word vectors' % (len(self.word2vec)))\n",
    "\n",
    "    def most_similar(self, w, K=5):\n",
    "        # K most similar words: self.score  -  np.argsort \n",
    "        dic_score = {}\n",
    "        if w in self.id2word.values():\n",
    "            for id_ in self.word2id.values():\n",
    "                dic_score[id_] = self.score(w, self.id2word[id_]) # similarity scoring\n",
    "            most_similar_id = np.argsort(np.array(list(dic_score.values())))[-(K+1):] #sorting by similarity score\n",
    "            most_sim = [self.id2word[i] for i in np.flip(most_similar_id) if self.id2word[i]!= w] #retrieving sentences\n",
    "            return most_sim\n",
    "        else:\n",
    "            print(\"Proposed word '{}' doesn't belong to vocabulary\".format(w))\n",
    "            return\n",
    "\n",
    "    def score(self, w1, w2):\n",
    "        # cosine similarity: np.dot  -  np.linalg.norm\n",
    "        id1, id2 = self.word2id[w1], self.word2id[w2] #retrieving word indices\n",
    "        score_ = np.dot(self.embeddings[id1], self.embeddings[id2]) / (np.linalg.norm(self.embeddings[id1]) * np.linalg.norm(self.embeddings[id2])) #computing cosine similarity\n",
    "        return score_\n"
   ]
  },
  {
   "cell_type": "code",
   "execution_count": 6,
   "metadata": {},
   "outputs": [
    {
     "name": "stdout",
     "output_type": "stream",
     "text": [
      "Loaded 100000 pretrained word vectors\n",
      "cat dog 0.671683666279249\n",
      "dog pet 0.684206402966922\n",
      "dogs cats 0.7074389328052404\n",
      "paris france 0.7775108541288563\n",
      "germany berlin 0.7420295235998394\n",
      "['cats', 'kitty', 'kitten', 'feline', 'kitties']\n",
      "['dogs', 'puppy', 'Dog', 'doggie', 'canine']\n",
      "['dog', 'pooches', 'Dogs', 'doggies', 'canines']\n",
      "['france', 'Paris', 'london', 'berlin', 'tokyo']\n",
      "['austria', 'europe', 'german', 'berlin', 'poland']\n"
     ]
    }
   ],
   "source": [
    "w2v = Word2vec(os.path.join(PATH_TO_DATA, 'crawl-300d-200k.vec'), nmax=100000)\n",
    "\n",
    "# You will be evaluated on the output of the following:\n",
    "for w1, w2 in zip(('cat', 'dog', 'dogs', 'paris', 'germany'), ('dog', 'pet', 'cats', 'france', 'berlin')):\n",
    "    print(w1, w2, w2v.score(w1, w2))\n",
    "for w1 in ['cat', 'dog', 'dogs', 'paris', 'germany']:\n",
    "    print(w2v.most_similar(w1))"
   ]
  },
  {
   "cell_type": "code",
   "execution_count": 6,
   "metadata": {},
   "outputs": [],
   "source": [
    "class BoV():\n",
    "    def __init__(self, w2v):\n",
    "        self.w2v = w2v\n",
    "        #self.stopwords = set(stopwords.words('english'))\n",
    "    \n",
    "    def encode(self, sentences, idf=False):\n",
    "        # takes a list of sentences, outputs a numpy array of sentence embeddings\n",
    "        sentemb = []\n",
    "        if idf == True:\n",
    "            # idf-weighted mean of word vectors\n",
    "            for sent in sentences:\n",
    "                ids_ = []\n",
    "                for word in sent.split():\n",
    "                    #if word not in self.stopwords:\n",
    "                    try:\n",
    "                        ids_.append(self.w2v.word2id[word])\n",
    "                    except:\n",
    "                        pass\n",
    "                vec_weighted = np.array([self.w2v.embeddings[i]*self.idf_weight[i] for i in ids_])\n",
    "                sentemb.append(np.mean(vec_weighted,axis=0))\n",
    "        else:\n",
    "            # mean of word vectors\n",
    "            for sent in sentences:\n",
    "                ids_ = []\n",
    "                for word in sent.split():\n",
    "                    #if word not in self.stopwords:\n",
    "                    try:\n",
    "                        ids_.append(self.w2v.word2id[word])\n",
    "                    except:\n",
    "                        pass\n",
    "                vec = np.array([self.w2v.embeddings[i] for i in ids_])\n",
    "                sentemb.append(np.mean(vec,axis=0))\n",
    "        return np.vstack(sentemb)\n",
    "\n",
    "    def most_similar(self, s, sentences, idf=False, K=5):\n",
    "        # get most similar sentences and **print** them\n",
    "        scores = {}\n",
    "        keys= self.encode(sentences, idf)\n",
    "        query = self.encode([s], idf)\n",
    "        for k, key in enumerate(keys):\n",
    "            scores[k] = self.score(query,key) \n",
    "        ids_ = np.argsort(np.array(list(scores.values())).flatten())[-K:][::-1]\n",
    "        return np.vstack(np.array([sentences[i] for i in ids_]))\n",
    "\n",
    "    def score(self, s1, s2):\n",
    "        # cosine similarity: use   np.dot  and  np.linalg.norm\n",
    "        return np.dot(s1, s2) / (np.linalg.norm(s1) * np.linalg.norm(s2))\n",
    "    \n",
    "    def score_sent(self, s1, s2, idf=False):\n",
    "        # using scoring with raw string sentences and encoded sentences\n",
    "        s1_vec = self.encode([s1], idf)\n",
    "        s2_vec = self.encode([s2], idf)\n",
    "        return np.dot(s1_vec, s2_vec.T) / (np.linalg.norm(s1_vec) * np.linalg.norm(s2_vec))\n",
    "    \n",
    "    def build_idf(self, sentences):\n",
    "        # build the idf dictionary: associate each word to its idf value\n",
    "        self.idf = {}\n",
    "        self.idf_weight = {}\n",
    "        for sent in sentences:\n",
    "            for w in set(sent.split()):\n",
    "                self.idf[w] = self.idf.get(w, 0) + 1  # counting occurences\n",
    "        for w in list(self.idf.keys()):\n",
    "            try:\n",
    "                self.idf_weight[self.w2v.word2id[w]] = max(1, np.log10(len(sentences))/(self.idf[w])) # index by ids for convenience\n",
    "            except:\n",
    "                pass\n",
    "        return self.idf_weight"
   ]
  },
  {
   "cell_type": "code",
   "execution_count": 9,
   "metadata": {},
   "outputs": [
    {
     "name": "stdout",
     "output_type": "stream",
     "text": [
      "Loaded 100000 pretrained word vectors\n",
      "[['1 smiling african american boy . ']\n",
      " ['an african american man smiling . ']\n",
      " ['a little african american boy and girl looking up . ']\n",
      " ['an afican american woman standing behind two small african american children . ']\n",
      " ['an african american man is sitting . ']]\n",
      "[[0.57262589]]\n",
      "\n",
      " [['1 smiling african american boy . ']\n",
      " ['an african american man smiling . ']\n",
      " ['a little african american boy and girl looking up . ']\n",
      " ['an afican american woman standing behind two small african american children . ']\n",
      " ['an african american man is sitting . ']]\n",
      "[[0.56116265]]\n"
     ]
    }
   ],
   "source": [
    "w2v = Word2vec(os.path.join(PATH_TO_DATA, 'crawl-300d-200k.vec'),nmax= 100000)\n",
    "s2v = BoV(w2v)\n",
    "\n",
    "# Load sentences in \"PATH_TO_DATA/sentences.txt\"\n",
    "sentences = io.open(os.path.join(PATH_TO_DATA,'sentences.txt'), mode='r').read().splitlines()\n",
    "\n",
    "# Build idf scores for each word\n",
    "s2v.build_idf(sentences)\n",
    "idf = True\n",
    "\n",
    "# You will be evaluated on the output of the following:\n",
    "print(s2v.most_similar('' if not sentences else sentences[10], sentences))  # BoV-mean\n",
    "print(s2v.score_sent('' if not sentences else sentences[7], '' if not sentences else sentences[13]))\n",
    "\n",
    "print('\\n', s2v.most_similar('' if not sentences else sentences[10], sentences, idf))  # BoV-idf\n",
    "print(s2v.score_sent('' if not sentences else sentences[7], '' if not sentences else sentences[13], idf))"
   ]
  },
  {
   "cell_type": "markdown",
   "metadata": {},
   "source": [
    "# 2) Multilingual (English-French) word embeddings"
   ]
  },
  {
   "cell_type": "markdown",
   "metadata": {},
   "source": [
    "Let's consider a bilingual dictionary of size V_a (e.g French-English).\n",
    "\n",
    "Let's define **X and Y** the **French** and **English** matrices.\n",
    "\n",
    "They contain the embeddings associated to the words in the bilingual dictionary.\n",
    "\n",
    "We want to find a **mapping W** that will project the source word space (e.g French) to the target word space (e.g English).\n",
    "\n",
    "Procrustes : **W = argmin || W.X - Y ||  s.t  W^T.W = Id**\n",
    "has a closed form solution:\n",
    "**W = U.V^T  where  U.Sig.V^T = SVD(Y.X^T)**\n",
    "\n",
    "In what follows, you are asked to: "
   ]
  },
  {
   "cell_type": "code",
   "execution_count": 10,
   "metadata": {},
   "outputs": [],
   "source": [
    "# 1 - Download and load 50k first vectors of\n",
    "#     https://s3-us-west-1.amazonaws.com/fasttext-vectors/wiki.en.vec\n",
    "#     https://s3-us-west-1.amazonaws.com/fasttext-vectors/wiki.fr.vec\n",
    "\n",
    "def reader(path, n_items):\n",
    "    words_id = {}\n",
    "    embeddings = []\n",
    "    with io.open(path, encoding='utf-8') as f:\n",
    "        next(f)\n",
    "        for i, line in enumerate(f):\n",
    "            word, vec = line.split(' ', 1)\n",
    "            words_id[word] = i \n",
    "            embeddings.append(np.fromstring(vec, sep=' ')) \n",
    "            if i == (n_items - 1):\n",
    "                break\n",
    "    id_words = {v: k for k, v in words_id.items()}\n",
    "    return words_id, id_words, np.array(embeddings)\n",
    "\n",
    "en_words, en_id, en_embeddings = reader(os.path.join(PATH_TO_DATA,'wiki.en.vec'), 50000)\n",
    "fr_words, fr_id, fr_embeddings = reader(os.path.join(PATH_TO_DATA,'wiki.fr.vec'), 50000)"
   ]
  },
  {
   "cell_type": "code",
   "execution_count": 11,
   "metadata": {},
   "outputs": [
    {
     "name": "stdout",
     "output_type": "stream",
     "text": [
      "(300, 18970)\n"
     ]
    }
   ],
   "source": [
    "# 2 - Get words that appear in both vocabs (= identical character strings)\n",
    "#     Use it to create the matrix X and Y (of aligned embeddings for these words)\n",
    "\n",
    "common_words = list(set(fr_words.keys()).intersection(en_words.keys()))\n",
    "id_fr = [fr_words[i] for i in common_words]\n",
    "id_en = [en_words[i] for i in common_words]\n",
    "X = np.array([fr_embeddings[i] for i in id_fr]).T\n",
    "Y = np.array([en_embeddings[i] for i in id_en]).T\n",
    "print(X.shape)"
   ]
  },
  {
   "cell_type": "code",
   "execution_count": 12,
   "metadata": {},
   "outputs": [],
   "source": [
    "# 3 - Solve the Procrustes using the scipy package and: scipy.linalg.svd() and get the optimal W\n",
    "#     Now W*French_vector is in the same space as English_vector\n",
    "\n",
    "from scipy import linalg\n",
    "U, S, V = linalg.svd(Y @ X.T)\n",
    "W = U @ V\n",
    "fr_embeddings_eng_space = (W @ fr_embeddings.T).T\n"
   ]
  },
  {
   "cell_type": "code",
   "execution_count": 13,
   "metadata": {},
   "outputs": [
    {
     "name": "stdout",
     "output_type": "stream",
     "text": [
      "apprentissage \n",
      " [[0.39555692 0.41664311 0.42507206 0.44421271 0.4573312 ]] \n",
      " ['apprenticeship', 'learner', 'learning', 'learners', 'skills'] \n",
      "\n",
      "ordinateur \n",
      " [[0.31621653 0.32145343 0.35557633 0.3640258  0.37790868]] \n",
      " ['computers', 'computer', 'mainframe', 'workstation', 'programmable'] \n",
      "\n",
      "science \n",
      " [[0.22228825 0.36905812 0.45069087 0.45186173 0.46096044]] \n",
      " ['science', 'fiction', 'sciences', 'nanotechnology', 'metaphysics'] \n",
      "\n",
      "economie \n",
      " [[0.36126341 0.39063097 0.41820167 0.43633842 0.44071974]] \n",
      " ['economics', 'macroeconomics', 'economy', 'macroeconomic', 'economic'] \n",
      "\n",
      "jeu \n",
      " [[0.26429006 0.29007032 0.34939323 0.3520151  0.35992946]] \n",
      " ['gameplay', 'game', 'videogame', 'dreamcast', 'multiplayer'] \n",
      "\n",
      "hasard \n",
      " [[0.56188441 0.58619875 0.60054803 0.60160312 0.60586933]] \n",
      " ['randomly', 'fait', 'randomness', 'random', 'poisson'] \n",
      "\n",
      "thèse \n",
      " [[0.23382457 0.30056705 0.37234694 0.39335806 0.4104942 ]] \n",
      " ['thesis', 'dissertation', 'doctoral', 'phd', 'habilitation'] \n",
      "\n"
     ]
    }
   ],
   "source": [
    "# 4 - After alignment with W, give examples of English nearest neighbors of some French words (and vice versa)\n",
    "#     You will be evaluated on that part and the code above\n",
    "\n",
    "from sklearn.neighbors import NearestNeighbors\n",
    "NN = NearestNeighbors(5, algorithm = 'auto', metric = 'cosine')\n",
    "NN.fit(en_embeddings)\n",
    "strings = ['apprentissage','ordinateur', 'science', 'economie', 'jeu', 'hasard' ,'thèse']\n",
    "for string in strings:\n",
    "    k = fr_words[string]\n",
    "    dist, test = NN.kneighbors(fr_embeddings_eng_space[:,np.newaxis][k], n_neighbors=None, return_distance=True)\n",
    "    print(string, '\\n', dist, '\\n', [en_id[i] for i in test[0]], '\\n')  "
   ]
  },
  {
   "cell_type": "markdown",
   "metadata": {},
   "source": [
    "If you want to dive deeper on this subject: https://github.com/facebookresearch/MUSE"
   ]
  },
  {
   "cell_type": "markdown",
   "metadata": {},
   "source": [
    "# 3) Sentence classification with BoV and scikit-learn"
   ]
  },
  {
   "cell_type": "code",
   "execution_count": 4,
   "metadata": {},
   "outputs": [],
   "source": [
    "# 1 - Load train/dev/test of Stanford Sentiment TreeBank (SST)\n",
    "#     (https://nlp.stanford.edu/~socherr/EMNLP2013_RNTN.pdf)\n",
    "\n",
    "SST_train_path = 'SST/stsa.fine.train'\n",
    "SST_dev_path = 'SST/stsa.fine.dev'\n",
    "SST_test_path = 'SST/stsa.fine.test.X'\n",
    "\n",
    "def SST_reader(path, test=False):\n",
    "    sentences = []\n",
    "    categories = []\n",
    "    if test==False:\n",
    "        with io.open(path, encoding='utf-8') as f:\n",
    "            next(f)\n",
    "            for i, line in enumerate(f):\n",
    "                category, sentence = line.split(' ', 1)\n",
    "                sentences.append(sentence.strip('\\n'))\n",
    "                categories.append(category)\n",
    "        return [categories, sentences]\n",
    "    else:\n",
    "        with io.open(path, encoding='utf-8') as f:\n",
    "            next(f)\n",
    "            for i, line in enumerate(f):\n",
    "                sentences.append(line.strip('\\n'))\n",
    "        return sentences\n",
    "    \n",
    "SST_train = SST_reader(os.path.join(PATH_TO_DATA,SST_train_path))\n",
    "SST_dev = SST_reader(os.path.join(PATH_TO_DATA,SST_dev_path))\n",
    "SST_test = SST_reader(os.path.join(PATH_TO_DATA,SST_test_path), True)"
   ]
  },
  {
   "cell_type": "code",
   "execution_count": 7,
   "metadata": {},
   "outputs": [
    {
     "name": "stdout",
     "output_type": "stream",
     "text": [
      "Loaded 100000 pretrained word vectors\n"
     ]
    }
   ],
   "source": [
    "# 2 - Encode sentences with the BoV model above\n",
    "\n",
    "# TYPE CODE HERE\n",
    "w2v = Word2vec(os.path.join(PATH_TO_DATA, 'crawl-300d-200k.vec'),nmax= 100000)\n",
    "s2v = BoV(w2v)\n",
    "s2v.build_idf(SST_train[1]+SST_dev[1]+SST_test)\n",
    "\n",
    "SST_train_encoded_noidf = s2v.encode(SST_train[1], idf=False)\n",
    "SST_dev_encoded_noidf = s2v.encode(SST_dev[1], idf=False)\n",
    "SST_test_encoded_noidf = s2v.encode(SST_test, idf=False)\n",
    "\n",
    "SST_train_encoded = s2v.encode(SST_train[1], idf=True)\n",
    "SST_dev_encoded = s2v.encode(SST_dev[1], idf=True)\n",
    "SST_test_encoded = s2v.encode(SST_test, idf=True)"
   ]
  },
  {
   "cell_type": "code",
   "execution_count": 16,
   "metadata": {},
   "outputs": [
    {
     "name": "stdout",
     "output_type": "stream",
     "text": [
      "{0.1: 0.4252604471497132, 0.2: 0.42970853330211867, 0.8: 0.42151469038979283, 0.30000000000000004: 0.4288891490108861, 0.9: 0.4213976354910453, 0.6000000000000001: 0.4212805805922978, 0.7000000000000001: 0.42174880018728783, 0.4: 0.42397284326349055, 0.5: 0.42373873346599555}\n"
     ]
    },
    {
     "data": {
      "text/plain": [
       "LogisticRegression(C=0.2, class_weight=None, dual=False, fit_intercept=True,\n",
       "          intercept_scaling=1, max_iter=10000, multi_class='multinomial',\n",
       "          n_jobs=None, penalty='l2', random_state=None, solver='lbfgs',\n",
       "          tol=1e-06, verbose=0, warm_start=False)"
      ]
     },
     "execution_count": 16,
     "metadata": {},
     "output_type": "execute_result"
    }
   ],
   "source": [
    "# 3 - Learn Logistic Regression on top of sentence embeddings using scikit-learn\n",
    "#     (consider tuning the L2 regularization on the dev set)\n",
    "\n",
    "from sklearn.linear_model import LogisticRegression\n",
    "from sklearn.model_selection import GridSearchCV\n",
    "parameters = {'C':[i*0.1 for i in range(1,10)], 'penalty':['l2'], 'tol':[1e-6] , 'max_iter':[10000], 'solver':['lbfgs'] , 'multi_class':['multinomial']}\n",
    "logreg = LogisticRegression()\n",
    "clf = GridSearchCV(logreg, parameters, cv=5)\n",
    "clf.fit(SST_train_encoded,SST_train[0])\n",
    "print(dict(zip([i*0.1 for i in range(1,10)],clf.cv_results_['mean_test_score']))) # 10 seems a good trade-off for regularization parameter\n",
    "\n",
    "model_noidf =  LogisticRegression(C= 0.2, penalty ='l2', tol=1e-6 , max_iter=10000, solver='lbfgs' , multi_class='multinomial')\n",
    "model_noidf.fit(SST_train_encoded_noidf,SST_train[0])\n",
    "\n",
    "model =  LogisticRegression(C= 0.2, penalty ='l2', tol=1e-6 , max_iter=10000, solver='lbfgs' , multi_class='multinomial')\n",
    "model.fit(SST_train_encoded,SST_train[0])\n"
   ]
  },
  {
   "cell_type": "code",
   "execution_count": 17,
   "metadata": {},
   "outputs": [
    {
     "name": "stdout",
     "output_type": "stream",
     "text": [
      "accuracy on training set no_idf:  0.4716141870537282\n",
      "f_1 score on training set no_idf:  0.4273507129999741\n",
      "\n",
      "\n",
      "accuracy on dev set no_idf:  0.43\n",
      "f_1 score on dev set no_idf:  0.37533626044703106\n",
      "\n",
      "\n",
      "accuracy on training set idf:  0.4744235046236685\n",
      "f_1 score on training set idf:  0.4374165268905858\n",
      "\n",
      "\n",
      "accuracy on dev set idf:  0.4118181818181818\n",
      "f_1 score on dev set idf:  0.36524141429201595\n",
      "[[ 17 100   5  15   2]\n",
      " [  9 193  11  76   0]\n",
      " [  4  99  14 107   4]\n",
      " [  2  52   7 199  19]\n",
      " [  0  11   1 103  50]]\n"
     ]
    }
   ],
   "source": [
    "from sklearn.metrics import accuracy_score, f1_score\n",
    "\n",
    "\n",
    "print('accuracy on training set no_idf: ',accuracy_score(SST_train[0],model_noidf.predict(SST_train_encoded_noidf)))\n",
    "print('f_1 score on training set no_idf: ',f1_score(SST_train[0],model_noidf.predict(SST_train_encoded_noidf),average='weighted'))\n",
    "print('\\n')\n",
    "print('accuracy on dev set no_idf: ',accuracy_score(SST_dev[0],model_noidf.predict(SST_dev_encoded_noidf)))\n",
    "print('f_1 score on dev set no_idf: ',f1_score(SST_dev[0],model_noidf.predict(SST_dev_encoded_noidf),average='weighted'))\n",
    "print('\\n')\n",
    "print('accuracy on training set idf: ',accuracy_score(SST_train[0],model.predict(SST_train_encoded)))\n",
    "print('f_1 score on training set idf: ',f1_score(SST_train[0],model.predict(SST_train_encoded),average='weighted'))\n",
    "print('\\n')\n",
    "print('accuracy on dev set idf: ', accuracy_score(SST_dev[0],model.predict(SST_dev_encoded)))\n",
    "print('f_1 score on dev set idf: ', f1_score(SST_dev[0],model.predict(SST_dev_encoded),average='weighted'))\n",
    "\n",
    "from sklearn.metrics import confusion_matrix \n",
    "print(confusion_matrix(SST_dev[0],model_noidf.predict(SST_dev_encoded_noidf)))\n"
   ]
  },
  {
   "cell_type": "code",
   "execution_count": 18,
   "metadata": {},
   "outputs": [],
   "source": [
    "# 4 - Produce 2210 predictions for the test set (in the same order). One line = one prediction (=0,1,2,3,4).\n",
    "#     Attach the output file \"logreg_bov_y_test_sst.txt\" to your deliverable.\n",
    "#     You will be evaluated on the results of the test set.\n",
    "\n",
    "# TYPE CODE HERE\n",
    "predictions = model_noidf.predict(SST_test_encoded)\n",
    "with io.open(\"logreg_bov_y_test_sst.txt\",\"w+\") as f:\n",
    "    for classe in predictions:\n",
    "        f.write(classe + '\\n')\n",
    "    f.close"
   ]
  },
  {
   "cell_type": "code",
   "execution_count": 19,
   "metadata": {},
   "outputs": [
    {
     "name": "stderr",
     "output_type": "stream",
     "text": [
      "//anaconda/lib/python3.5/site-packages/sklearn/svm/base.py:196: FutureWarning: The default value of gamma will change from 'auto' to 'scale' in version 0.22 to account better for unscaled features. Set gamma explicitly to 'auto' or 'scale' to avoid this warning.\n",
      "  \"avoid this warning.\", FutureWarning)\n",
      "//anaconda/lib/python3.5/site-packages/sklearn/svm/base.py:244: ConvergenceWarning: Solver terminated early (max_iter=1000).  Consider pre-processing your data with StandardScaler or MinMaxScaler.\n",
      "  % self.max_iter, ConvergenceWarning)\n"
     ]
    },
    {
     "name": "stdout",
     "output_type": "stream",
     "text": [
      "0.3090909090909091\n",
      "0.24111166713595578\n"
     ]
    },
    {
     "name": "stderr",
     "output_type": "stream",
     "text": [
      "//anaconda/lib/python3.5/site-packages/sklearn/metrics/classification.py:1143: UndefinedMetricWarning: F-score is ill-defined and being set to 0.0 in labels with no predicted samples.\n",
      "  'precision', 'predicted', average, warn_for)\n"
     ]
    }
   ],
   "source": [
    "# BONUS!\n",
    "# 5 - Try to improve performance with another classifier\n",
    "#     Attach the output file \"XXX_bov_y_test_sst.txt\" to your deliverable (where XXX = the name of the classifier)\n",
    "\n",
    "# TYPE CODE HERE\n",
    "from sklearn.svm import SVC\n",
    "SVC = SVC(kernel ='rbf', C=10, tol = 1e-4 ,max_iter = 1000)\n",
    "SVC.fit(SST_train_encoded,SST_train[0])\n",
    "print(accuracy_score(SST_dev[0],SVC.predict(SST_dev_encoded)))\n",
    "print(f1_score(SST_dev[0],SVC.predict(SST_dev_encoded),average='weighted'))"
   ]
  },
  {
   "cell_type": "markdown",
   "metadata": {},
   "source": [
    "# 4) Sentence classification with LSTMs in Keras"
   ]
  },
  {
   "cell_type": "markdown",
   "metadata": {},
   "source": [
    "## 4.1 - Preprocessing"
   ]
  },
  {
   "cell_type": "code",
   "execution_count": 8,
   "metadata": {},
   "outputs": [
    {
     "name": "stderr",
     "output_type": "stream",
     "text": [
      "Using TensorFlow backend.\n"
     ]
    }
   ],
   "source": [
    "import keras"
   ]
  },
  {
   "cell_type": "code",
   "execution_count": 9,
   "metadata": {},
   "outputs": [],
   "source": [
    "# 1 - Load train/dev/test sets of SST\n",
    "\n",
    "SST_train_path = 'SST/stsa.fine.train'\n",
    "SST_dev_path = 'SST/stsa.fine.dev'\n",
    "SST_test_path = 'SST/stsa.fine.test.X'\n",
    "\n",
    "SST_train = SST_reader(os.path.join(PATH_TO_DATA,SST_train_path))\n",
    "SST_dev = SST_reader(os.path.join(PATH_TO_DATA,SST_dev_path))\n",
    "SST_test = SST_reader(os.path.join(PATH_TO_DATA,SST_test_path), True)"
   ]
  },
  {
   "cell_type": "code",
   "execution_count": 89,
   "metadata": {},
   "outputs": [
    {
     "name": "stdout",
     "output_type": "stream",
     "text": [
      "n voc:  17612\n",
      "\n",
      " one hot\n",
      "unique tokens one-hot encoded: 11148\n",
      "value max: 22895\n",
      "\n",
      " tokenizing\n",
      "unique tokens tokenizing encoded: 15335\n",
      "value max: 22895\n",
      "\n",
      " manual tokenizing\n",
      "unique tokens manual tokenizing encoded: 16577\n",
      "value max: 17611\n"
     ]
    }
   ],
   "source": [
    "# 2 - Transform text to integers using keras.preprocessing.text.one_hot function\n",
    "#     https://keras.io/preprocessing/text/\n",
    "\n",
    "# TYPE CODE HERE\n",
    "from keras.preprocessing.text import one_hot\n",
    "voc = [token for sentence in SST_train[1] for token in sentence.split()] + [token for sentence in SST_dev[1] for token in sentence.split()] + [token for sentence in SST_test[1] for token in sentence.split()] \n",
    "n_voc = len(np.unique(voc))\n",
    "n_hash = int(1.3*n_voc)+1\n",
    "Onehot_train = []\n",
    "Onehot_dev = []\n",
    "for sentence in SST_train[1]:\n",
    "    \n",
    "    Onehot_train.append(one_hot(sentence, n_hash, filters='!\"#$%&()*+,-./:;<=>?@[\\]^_`{|}~  ', lower=True, split=' '))\n",
    "\n",
    "for sentence in SST_dev[1]:\n",
    "    Onehot_dev.append(one_hot(sentence, n_hash, filters='!\"#$%&()*+,-./:;<=>?@[\\]^_`{|}~  ', lower=True, split=' '))\n",
    "\n",
    "print('n voc: ', n_voc)   \n",
    "\n",
    "print('\\n','one hot')   \n",
    "print('unique tokens one-hot encoded:', len(np.unique([token for sentence in Onehot_train for token in sentence])))\n",
    "print('value max:', (np.max([token for sentence in Onehot_train for token in sentence])))\n",
    "\n",
    "## Tokenizer \n",
    "from keras.preprocessing.text import Tokenizer\n",
    "Tok = Tokenizer(n_voc, filters = '!\"#$%&()*+,-./:;<=>?@[\\]^_`{|}~  ', lower=True, split=' ')\n",
    "Tok.fit_on_texts(SST_train[1])\n",
    "Tokens_train = []\n",
    "Tokens_dev = []\n",
    "\n",
    "Tokens_train = Tok.texts_to_sequences(SST_train[1])\n",
    "Tokens_dev = Tok.texts_to_sequences(SST_dev[1])\n",
    "\n",
    "print('\\n','tokenizing')  \n",
    "print('unique tokens tokenizing encoded:', np.max([token for sentence in Tokens_train for token in sentence]))\n",
    "print('value max:', np.max([token for sentence in Onehot_train for token in sentence]))\n",
    "\n",
    "\n",
    "### Manual tokenizer \n",
    "Encoding_dic ={}\n",
    "filters=[i for i in '!\"#$%&()*+,-./:;<=>?@[\\]^_`{|}~  ']\n",
    "\n",
    "for i, token in enumerate(set(voc)):\n",
    "    Encoding_dic[token] = i \n",
    "\n",
    "Encoding_train = []\n",
    "for sentence in SST_train[1]:\n",
    "    Encoding_train.append([Encoding_dic.get(token,0) for token in sentence.split(' ')])\n",
    "    \n",
    "Encoding_dev = []\n",
    "for sentence in SST_dev[1]:\n",
    "    Encoding_dev.append([Encoding_dic.get(token,0) for token in sentence.split(' ')])\n",
    "\n",
    "print('\\n','manual tokenizing')  \n",
    "print('unique tokens manual tokenizing encoded:', len(np.unique([token for sentence in Encoding_train for token in sentence])))\n",
    "print('value max:', np.max([token for sentence in Encoding_train for token in sentence]))\n",
    "\n",
    "Encoding_test = []\n",
    "for sentence in SST_test:\n",
    "    Encoding_test.append([Encoding_dic.get(token,0) for token in sentence.split(' ')])\n"
   ]
  },
  {
   "cell_type": "markdown",
   "metadata": {},
   "source": [
    "**Padding input data**\n",
    "\n",
    "Models in Keras (and elsewhere) take batches of sentences of the same length as input. It is because Deep Learning framework have been designed to handle well Tensors, which are particularly suited for fast computation on the GPU.\n",
    "\n",
    "Since sentences have different sizes, we \"pad\" them. That is, we add dummy \"padding\" tokens so that they all have the same length.\n",
    "\n",
    "The input to a Keras model thus has this size : (batchsize, maxseqlen) where maxseqlen is the maximum length of a sentence in the batch."
   ]
  },
  {
   "cell_type": "code",
   "execution_count": 90,
   "metadata": {},
   "outputs": [],
   "source": [
    "# 3 - Pad your sequences using keras.preprocessing.sequence.pad_sequences\n",
    "#     https://keras.io/preprocessing/sequence/\n",
    "\n",
    "# TYPE CODE HERE\n",
    "from keras.preprocessing.sequence import pad_sequences\n",
    "pad_length = np.max([len(sentence) for sentence in Encoding_train])\n",
    "Padded_train = pad_sequences(Encoding_train, maxlen=pad_length, dtype='int32', padding='post', truncating='pre', value=0)\n",
    "Padded_dev = pad_sequences(Encoding_dev, maxlen=pad_length, dtype='int32', padding='post', truncating='pre', value=0)\n",
    "Padded_test = pad_sequences(Encoding_test, maxlen=pad_length, dtype='int32', padding='post', truncating='pre', value=0)\n",
    "\n"
   ]
  },
  {
   "cell_type": "markdown",
   "metadata": {},
   "source": [
    "## 4.2 - Design and train your model"
   ]
  },
  {
   "cell_type": "code",
   "execution_count": 80,
   "metadata": {},
   "outputs": [],
   "source": [
    "# 4 - Design your encoder + classifier using keras.layers\n",
    "#     In Keras, Torch and other deep learning framework, we create a \"container\" which is the Sequential() module.\n",
    "#     Then we add components to this contained : the lookuptable, the LSTM, the classifier etc.\n",
    "#     All of these components are contained in the Sequential() and are trained together.\n",
    "\n",
    "\n",
    "# ADAPT CODE BELOW\n",
    "\n",
    "from keras.models import Sequential\n",
    "from keras.layers import Embedding, LSTM, Dense, Activation, Bidirectional, MaxPooling1D, Dropout, Flatten\n",
    "\n",
    "embed_dim  = 300  # word embedding dimension\n",
    "nhid       = 50  # number of hidden units in the LSTM\n",
    "vocab_size = n_voc # size of the vocabulary\n",
    "n_classes  = 5\n",
    "\n",
    "model = Sequential()\n",
    "model.add(Embedding(vocab_size, embed_dim, mask_zero=True,trainable=True))\n",
    "model.add(Dropout(0.5))\n",
    "model.add(Bidirectional(LSTM(nhid, dropout=0.5, recurrent_dropout=0.5)))\n",
    "model.add(Dense(50,activation='tanh'))\n",
    "model.add(Dense(n_classes, activation='softmax'))\n"
   ]
  },
  {
   "cell_type": "code",
   "execution_count": 81,
   "metadata": {},
   "outputs": [
    {
     "name": "stdout",
     "output_type": "stream",
     "text": [
      "_________________________________________________________________\n",
      "Layer (type)                 Output Shape              Param #   \n",
      "=================================================================\n",
      "embedding_19 (Embedding)     (None, None, 300)         6868800   \n",
      "_________________________________________________________________\n",
      "dropout_14 (Dropout)         (None, None, 300)         0         \n",
      "_________________________________________________________________\n",
      "bidirectional_16 (Bidirectio (None, 100)               140400    \n",
      "_________________________________________________________________\n",
      "dense_27 (Dense)             (None, 50)                5050      \n",
      "_________________________________________________________________\n",
      "dense_28 (Dense)             (None, 5)                 255       \n",
      "=================================================================\n",
      "Total params: 7,014,505\n",
      "Trainable params: 7,014,505\n",
      "Non-trainable params: 0\n",
      "_________________________________________________________________\n",
      "None\n"
     ]
    }
   ],
   "source": [
    "# 5 - Define your loss/optimizer/metrics\n",
    "\n",
    "# MODIFY CODE BELOW\n",
    "\n",
    "loss_classif     =  'categorical_crossentropy' # find the right loss for multi-class classification\n",
    "optimizer        =  'RMSProp' # find the right optimizer\n",
    "metrics_classif  =  ['accuracy']\n",
    "\n",
    "# Observe how easy (but blackboxed) this is in Keras\n",
    "model.compile(loss=loss_classif,\n",
    "              optimizer=optimizer,\n",
    "              metrics=metrics_classif)\n",
    "print(model.summary())\n",
    "\n",
    "y_train = keras.utils.to_categorical(SST_train[0], num_classes=5)\n",
    "y_dev = keras.utils.to_categorical(SST_dev[0], num_classes=5)"
   ]
  },
  {
   "cell_type": "code",
   "execution_count": 82,
   "metadata": {},
   "outputs": [
    {
     "name": "stdout",
     "output_type": "stream",
     "text": [
      "Train on 8543 samples, validate on 1100 samples\n",
      "Epoch 1/5\n",
      "8543/8543 [==============================] - 61s - loss: 1.5668 - acc: 0.2889 - val_loss: 1.5523 - val_acc: 0.3118\n",
      "Epoch 2/5\n",
      "8543/8543 [==============================] - 53s - loss: 1.4884 - acc: 0.3564 - val_loss: 1.4395 - val_acc: 0.3636\n",
      "Epoch 3/5\n",
      "8543/8543 [==============================] - 50s - loss: 1.3404 - acc: 0.4313 - val_loss: 1.3658 - val_acc: 0.3973\n",
      "Epoch 4/5\n",
      "8543/8543 [==============================] - 50s - loss: 1.2020 - acc: 0.4917 - val_loss: 1.3320 - val_acc: 0.4109\n",
      "Epoch 5/5\n",
      "8543/8543 [==============================] - 49s - loss: 1.0898 - acc: 0.5526 - val_loss: 1.3383 - val_acc: 0.4091\n"
     ]
    }
   ],
   "source": [
    "# 6 - Train your model and find the best hyperparameters for your dev set\n",
    "#     you will be evaluated on the quality of your predictions on the test set\n",
    "\n",
    "# ADAPT CODE BELOW\n",
    "bs = 256\n",
    "n_epochs = 5\n",
    "history = model.fit(Padded_train, y_train, batch_size=bs, epochs=n_epochs, validation_data=(Padded_dev, y_dev))"
   ]
  },
  {
   "cell_type": "code",
   "execution_count": 101,
   "metadata": {},
   "outputs": [
    {
     "name": "stdout",
     "output_type": "stream",
     "text": [
      "[[ 31  82  14   9   3]\n",
      " [ 24 180  28  53   4]\n",
      " [  8  95  26  95   4]\n",
      " [  7  47  29 175  21]\n",
      " [  0  15  11 101  38]]\n"
     ]
    },
    {
     "data": {
      "image/png": "[encoded data removed]",
      "text/plain": [
       "<Figure size 720x432 with 1 Axes>"
      ]
     },
     "metadata": {
      "needs_background": "light"
     },
     "output_type": "display_data"
    },
    {
     "data": {
      "image/png": "[encoded data removed]",
      "text/plain": [
       "<Figure size 720x432 with 1 Axes>"
      ]
     },
     "metadata": {
      "needs_background": "light"
     },
     "output_type": "display_data"
    },
    {
     "data": {
      "image/png": "[encoded data removed]",
      "text/plain": [
       "<Figure size 720x432 with 1 Axes>"
      ]
     },
     "metadata": {
      "needs_background": "light"
     },
     "output_type": "display_data"
    }
   ],
   "source": [
    "# 7 - Generate your predictions on the test set using model.predict(x_test)\n",
    "#     https://keras.io/models/model/\n",
    "#     Log your predictions in a file (one line = one integer: 0,1,2,3,4)\n",
    "#     Attach the output file \"logreg_lstm_y_test_sst.txt\" to your deliverable.\n",
    "\n",
    "# TYPE CODE HERE\n",
    "plt.subplots(figsize=(10,6))\n",
    "plt.plot(history.history['loss'])\n",
    "plt.plot(history.history['val_loss'])\n",
    "plt.legend(['train','dev'])\n",
    "plt.savefig('loss')\n",
    "\n",
    "plt.subplots(figsize=(10,6))\n",
    "plt.plot(history.history['acc'])\n",
    "plt.plot(history.history['val_acc'])\n",
    "plt.legend(['train','dev'])\n",
    "plt.savefig('acc')\n",
    "\n",
    "from sklearn.metrics import confusion_matrix\n",
    "plt.subplots(figsize=(10,6))\n",
    "print(confusion_matrix(SST_dev[0],(np.argmax(model.predict(Padded_dev),axis=1).astype(str))))\n",
    "plt.imshow(confusion_matrix(SST_dev[0],(np.argmax(model.predict(Padded_dev),axis=1).astype(str))))\n",
    "\n",
    "predictions = model.predict(Padded_test)\n",
    "with io.open(\"logreg_lstm_y_test_sst.txt\",\"w+\") as f:\n",
    "    for classe in np.argmax(predictions,axis=1).astype(str):\n",
    "        f.write(classe + '\\n')\n",
    "    f.close"
   ]
  },
  {
   "cell_type": "markdown",
   "metadata": {},
   "source": [
    "## 4.3 -- innovate !"
   ]
  },
  {
   "cell_type": "code",
   "execution_count": 126,
   "metadata": {},
   "outputs": [
    {
     "name": "stdout",
     "output_type": "stream",
     "text": [
      "____________________________________________________________________________________________________\n",
      "Layer (type)                     Output Shape          Param #     Connected to                     \n",
      "====================================================================================================\n",
      "input_13 (InputLayer)            (None, 52)            0                                            \n",
      "____________________________________________________________________________________________________\n",
      "embedding_36 (Embedding)         (None, 52, 300)       30000000    input_13[0][0]                   \n",
      "____________________________________________________________________________________________________\n",
      "dropout_31 (Dropout)             (None, 52, 300)       0           embedding_36[0][0]               \n",
      "____________________________________________________________________________________________________\n",
      "conv1d_32 (Conv1D)               (None, 51, 100)       60100       dropout_31[0][0]                 \n",
      "____________________________________________________________________________________________________\n",
      "conv1d_33 (Conv1D)               (None, 50, 100)       90100       dropout_31[0][0]                 \n",
      "____________________________________________________________________________________________________\n",
      "conv1d_34 (Conv1D)               (None, 49, 100)       120100      dropout_31[0][0]                 \n",
      "____________________________________________________________________________________________________\n",
      "global_max_pooling1d_28 (GlobalM (None, 100)           0           conv1d_32[0][0]                  \n",
      "____________________________________________________________________________________________________\n",
      "global_max_pooling1d_29 (GlobalM (None, 100)           0           conv1d_33[0][0]                  \n",
      "____________________________________________________________________________________________________\n",
      "global_max_pooling1d_30 (GlobalM (None, 100)           0           conv1d_34[0][0]                  \n",
      "____________________________________________________________________________________________________\n",
      "concatenate_11 (Concatenate)     (None, 300)           0           global_max_pooling1d_28[0][0]    \n",
      "                                                                   global_max_pooling1d_29[0][0]    \n",
      "                                                                   global_max_pooling1d_30[0][0]    \n",
      "____________________________________________________________________________________________________\n",
      "dropout_32 (Dropout)             (None, 300)           0           concatenate_11[0][0]             \n",
      "____________________________________________________________________________________________________\n",
      "dense_51 (Dense)                 (None, 256)           77056       dropout_32[0][0]                 \n",
      "____________________________________________________________________________________________________\n",
      "dropout_33 (Dropout)             (None, 256)           0           dense_51[0][0]                   \n",
      "____________________________________________________________________________________________________\n",
      "dense_52 (Dense)                 (None, 5)             1285        dropout_33[0][0]                 \n",
      "====================================================================================================\n",
      "Total params: 30,348,641\n",
      "Trainable params: 30,348,641\n",
      "Non-trainable params: 0\n",
      "____________________________________________________________________________________________________\n"
     ]
    }
   ],
   "source": [
    "# 8 - Open question: find a model that is better on your dev set\n",
    "#     (e.g: use a 1D ConvNet, use a better classifier, pretrain your lookup tables ..)\n",
    "#     you will get point if the results on the test set are better: be careful of not overfitting your dev set too much..\n",
    "#     Attach the output file \"XXX_XXX_y_test_sst.txt\" to your deliverable.\n",
    "\n",
    "# TYPE CODE HERE\n",
    "\n",
    "from keras.layers import Input, Dense, concatenate, Activation, Conv1D, GlobalMaxPooling1D, Dropout\n",
    "from keras.models import Model\n",
    "\n",
    "_input = Input(shape=(52,), dtype='int32')\n",
    "encoder = Embedding(100000, 300, weights=[w2v.embeddings])(_input)\n",
    "encoder = Dropout(0.5)(encoder)\n",
    "bigram_branch = Conv1D(filters=100, kernel_size=2, padding='valid', activation='relu', strides=1)(encoder)\n",
    "bigram_branch = GlobalMaxPooling1D()(bigram_branch)\n",
    "trigram_branch = Conv1D(filters=100, kernel_size=3, padding='valid', activation='relu', strides=1)(encoder)\n",
    "trigram_branch = GlobalMaxPooling1D()(trigram_branch)\n",
    "fourgram_branch = Conv1D(filters=100, kernel_size=4, padding='valid', activation='relu', strides=1)(encoder)\n",
    "fourgram_branch = GlobalMaxPooling1D()(fourgram_branch)\n",
    "merged = concatenate([bigram_branch, trigram_branch, fourgram_branch], axis=1)\n",
    "merged = Dropout(0.5)(merged)\n",
    "merged = Dense(256, activation='tanh')(merged)\n",
    "merged = Dropout(0.5)(merged)\n",
    "output = Dense(5, activation = 'softmax')(merged)\n",
    "\n",
    "CNN = Model(inputs=[_input], outputs=[output])\n",
    "CNN.compile(loss='categorical_crossentropy',\n",
    "                  optimizer='adam',\n",
    "                  metrics=['accuracy'])\n",
    "CNN.summary()"
   ]
  },
  {
   "cell_type": "code",
   "execution_count": 127,
   "metadata": {},
   "outputs": [
    {
     "name": "stdout",
     "output_type": "stream",
     "text": [
      "Train on 8543 samples, validate on 1100 samples\n",
      "Epoch 1/20\n",
      "8543/8543 [==============================] - 123s - loss: 2.1320 - acc: 0.2281 - val_loss: 1.6160 - val_acc: 0.2527\n",
      "Epoch 2/20\n",
      "8543/8543 [==============================] - 56s - loss: 1.9383 - acc: 0.2309 - val_loss: 1.5967 - val_acc: 0.2518\n",
      "Epoch 3/20\n",
      "8543/8543 [==============================] - 57s - loss: 1.8086 - acc: 0.2396 - val_loss: 1.5730 - val_acc: 0.3018\n",
      "Epoch 4/20\n",
      "8543/8543 [==============================] - 58s - loss: 1.7284 - acc: 0.2465 - val_loss: 1.5394 - val_acc: 0.3118\n",
      "Epoch 5/20\n",
      "8543/8543 [==============================] - 56s - loss: 1.6730 - acc: 0.2564 - val_loss: 1.5505 - val_acc: 0.3082\n",
      "Epoch 6/20\n",
      "8543/8543 [==============================] - 60s - loss: 1.6291 - acc: 0.2730 - val_loss: 1.5270 - val_acc: 0.3218\n",
      "Epoch 7/20\n",
      "8543/8543 [==============================] - 56s - loss: 1.5934 - acc: 0.2840 - val_loss: 1.5232 - val_acc: 0.3218\n",
      "Epoch 8/20\n",
      "8543/8543 [==============================] - 55s - loss: 1.5591 - acc: 0.3059 - val_loss: 1.5105 - val_acc: 0.3373\n",
      "Epoch 9/20\n",
      "8543/8543 [==============================] - 55s - loss: 1.5421 - acc: 0.3090 - val_loss: 1.4981 - val_acc: 0.3400\n",
      "Epoch 10/20\n",
      "8543/8543 [==============================] - 55s - loss: 1.5146 - acc: 0.3293 - val_loss: 1.4859 - val_acc: 0.3473\n",
      "Epoch 11/20\n",
      "8543/8543 [==============================] - 56s - loss: 1.4802 - acc: 0.3468 - val_loss: 1.4674 - val_acc: 0.3573\n",
      "Epoch 12/20\n",
      "8543/8543 [==============================] - 55s - loss: 1.4462 - acc: 0.3658 - val_loss: 1.4514 - val_acc: 0.3555\n",
      "Epoch 13/20\n",
      "8543/8543 [==============================] - 56s - loss: 1.3988 - acc: 0.3961 - val_loss: 1.4363 - val_acc: 0.3691\n",
      "Epoch 14/20\n",
      "8543/8543 [==============================] - 58s - loss: 1.3649 - acc: 0.4126 - val_loss: 1.4246 - val_acc: 0.3627\n",
      "Epoch 15/20\n",
      "8543/8543 [==============================] - 55s - loss: 1.3081 - acc: 0.4367 - val_loss: 1.4149 - val_acc: 0.3573\n",
      "Epoch 16/20\n",
      "8543/8543 [==============================] - 55s - loss: 1.2652 - acc: 0.4545 - val_loss: 1.3954 - val_acc: 0.3827\n",
      "Epoch 17/20\n",
      "8543/8543 [==============================] - 56s - loss: 1.2146 - acc: 0.4840 - val_loss: 1.3879 - val_acc: 0.3891\n",
      "Epoch 18/20\n",
      "8543/8543 [==============================] - 56s - loss: 1.1748 - acc: 0.5054 - val_loss: 1.3838 - val_acc: 0.3900\n",
      "Epoch 19/20\n",
      "8543/8543 [==============================] - 55s - loss: 1.1185 - acc: 0.5283 - val_loss: 1.3773 - val_acc: 0.3945\n",
      "Epoch 20/20\n",
      "8543/8543 [==============================] - 56s - loss: 1.0840 - acc: 0.5392 - val_loss: 1.3796 - val_acc: 0.4009\n"
     ]
    }
   ],
   "source": [
    "bs = 256\n",
    "n_epochs = 20\n",
    "history = CNN.fit(Padded_train, y_train, batch_size=bs, epochs=n_epochs, validation_data=(Padded_dev, y_dev))\n",
    "\n",
    "predictions = CNN.predict(Padded_test)\n",
    "with io.open(\"CNN_y_test_sst.txt\",\"w+\") as f:\n",
    "    for classe in np.argmax(predictions,axis=1).astype(str):\n",
    "        f.write(classe + '\\n')\n",
    "    f.close"
   ]
  },
  {
   "cell_type": "code",
   "execution_count": 132,
   "metadata": {},
   "outputs": [
    {
     "name": "stdout",
     "output_type": "stream",
     "text": [
      "[[ 29  65  32   8   5]\n",
      " [ 25 127  81  47   9]\n",
      " [  9  49  84  66  20]\n",
      " [  8  35  50 120  66]\n",
      " [  3   9  16  64  73]]\n"
     ]
    },
    {
     "data": {
      "text/plain": [
       "<matplotlib.image.AxesImage at 0x1d2930bc18>"
      ]
     },
     "execution_count": 132,
     "metadata": {},
     "output_type": "execute_result"
    },
    {
     "data": {
      "image/png": "[encoded data removed]",
      "text/plain": [
       "<Figure size 720x432 with 1 Axes>"
      ]
     },
     "metadata": {
      "needs_background": "light"
     },
     "output_type": "display_data"
    }
   ],
   "source": [
    "plt.subplots(figsize=(10,6))\n",
    "print(confusion_matrix(SST_dev[0],(np.argmax(CNN.predict(Padded_dev),axis=1).astype(str))))\n",
    "plt.imshow(confusion_matrix(SST_dev[0],(np.argmax(CNN.predict(Padded_dev),axis=1).astype(str))))\n"
   ]
  }
 ],
 "metadata": {
  "anaconda-cloud": {},
  "kernelspec": {
   "display_name": "Python 3",
   "language": "python",
   "name": "python3"
  },
  "language_info": {
   "codemirror_mode": {
    "name": "ipython",
    "version": 3
   },
   "file_extension": ".py",
   "mimetype": "text/x-python",
   "name": "python",
   "nbconvert_exporter": "python",
   "pygments_lexer": "ipython3",
   "version": "3.5.6"
  }
 },
 "nbformat": 4,
 "nbformat_minor": 1
}
