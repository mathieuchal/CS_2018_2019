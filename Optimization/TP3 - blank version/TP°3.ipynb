{
 "cells": [
  {
   "cell_type": "code",
   "execution_count": 1,
   "metadata": {},
   "outputs": [],
   "source": [
    "import numpy as np"
   ]
  },
  {
   "cell_type": "code",
   "execution_count": 8,
   "metadata": {},
   "outputs": [],
   "source": [
    "def projection_simplex(p):\n",
    "    mn, Q = p.shape[0], p.shape[1]\n",
    "    lbd = (p.sum(axis=1) - 1) / Q\n",
    "    w = p - lbd * np.ones((1, Q))\n",
    "\n",
    "    subzerodetect = np.zeros((mn, Q))\n",
    "    subzerodetect[w < 0] = 1\n",
    "\n",
    "    while np.sum(np.ravel(subzerodetect)) > 0:\n",
    "        direction = np.zeros((mn, Q))\n",
    "        direction[w > 0] = 1\n",
    "        w[w > 0] = 0\n",
    "        denominator = np.sum(direction, axis=1)\n",
    "        lbd = (np.sum(w, axis=1) - 1) / denominator\n",
    "        w += - lbd * np.ones((1, Q)) * direction\n",
    "        subzerodetect = np.zeros((mn, Q))\n",
    "        subzerodetect[w < 0] = 1\n",
    "    return w"
   ]
  },
  {
   "cell_type": "code",
   "execution_count": 23,
   "metadata": {},
   "outputs": [
    {
     "ename": "IndexError",
     "evalue": "tuple index out of range",
     "output_type": "error",
     "traceback": [
      "\u001b[0;31m---------------------------------------------------------------------------\u001b[0m",
      "\u001b[0;31mIndexError\u001b[0m                                Traceback (most recent call last)",
      "\u001b[0;32m<ipython-input-23-5c6c58ba05a3>\u001b[0m in \u001b[0;36m<module>\u001b[0;34m\u001b[0m\n\u001b[0;32m----> 1\u001b[0;31m \u001b[0mprojection_simplex\u001b[0m\u001b[0;34m(\u001b[0m\u001b[0mnp\u001b[0m\u001b[0;34m.\u001b[0m\u001b[0mones\u001b[0m\u001b[0;34m(\u001b[0m\u001b[0;36m30\u001b[0m\u001b[0;34m)\u001b[0m\u001b[0;34m)\u001b[0m\u001b[0;34m\u001b[0m\u001b[0m\n\u001b[0m",
      "\u001b[0;32m<ipython-input-8-fbcafac6be2b>\u001b[0m in \u001b[0;36mprojection_simplex\u001b[0;34m(p)\u001b[0m\n\u001b[1;32m      1\u001b[0m \u001b[0;32mdef\u001b[0m \u001b[0mprojection_simplex\u001b[0m\u001b[0;34m(\u001b[0m\u001b[0mp\u001b[0m\u001b[0;34m)\u001b[0m\u001b[0;34m:\u001b[0m\u001b[0;34m\u001b[0m\u001b[0m\n\u001b[0;32m----> 2\u001b[0;31m     \u001b[0mmn\u001b[0m\u001b[0;34m,\u001b[0m \u001b[0mQ\u001b[0m \u001b[0;34m=\u001b[0m \u001b[0mp\u001b[0m\u001b[0;34m.\u001b[0m\u001b[0mshape\u001b[0m\u001b[0;34m[\u001b[0m\u001b[0;36m0\u001b[0m\u001b[0;34m]\u001b[0m\u001b[0;34m,\u001b[0m \u001b[0mp\u001b[0m\u001b[0;34m.\u001b[0m\u001b[0mshape\u001b[0m\u001b[0;34m[\u001b[0m\u001b[0;36m1\u001b[0m\u001b[0;34m]\u001b[0m\u001b[0;34m\u001b[0m\u001b[0m\n\u001b[0m\u001b[1;32m      3\u001b[0m     \u001b[0mlbd\u001b[0m \u001b[0;34m=\u001b[0m \u001b[0;34m(\u001b[0m\u001b[0mp\u001b[0m\u001b[0;34m.\u001b[0m\u001b[0msum\u001b[0m\u001b[0;34m(\u001b[0m\u001b[0maxis\u001b[0m\u001b[0;34m=\u001b[0m\u001b[0;36m1\u001b[0m\u001b[0;34m)\u001b[0m \u001b[0;34m-\u001b[0m \u001b[0;36m1\u001b[0m\u001b[0;34m)\u001b[0m \u001b[0;34m/\u001b[0m \u001b[0mQ\u001b[0m\u001b[0;34m\u001b[0m\u001b[0m\n\u001b[1;32m      4\u001b[0m     \u001b[0mw\u001b[0m \u001b[0;34m=\u001b[0m \u001b[0mp\u001b[0m \u001b[0;34m-\u001b[0m \u001b[0mlbd\u001b[0m \u001b[0;34m*\u001b[0m \u001b[0mnp\u001b[0m\u001b[0;34m.\u001b[0m\u001b[0mones\u001b[0m\u001b[0;34m(\u001b[0m\u001b[0;34m(\u001b[0m\u001b[0;36m1\u001b[0m\u001b[0;34m,\u001b[0m \u001b[0mQ\u001b[0m\u001b[0;34m)\u001b[0m\u001b[0;34m)\u001b[0m\u001b[0;34m\u001b[0m\u001b[0m\n\u001b[1;32m      5\u001b[0m \u001b[0;34m\u001b[0m\u001b[0m\n",
      "\u001b[0;31mIndexError\u001b[0m: tuple index out of range"
     ]
    }
   ],
   "source": [
    "projection_simplex(np.ones(30))"
   ]
  },
  {
   "cell_type": "code",
   "execution_count": 20,
   "metadata": {},
   "outputs": [],
   "source": [
    "def prox_theta(dzeta, gamma, b):\n",
    "    if dzeta<1-gamma/(b**2):\n",
    "        a = np.roots([1,-dzeta,0,-gamma])\n",
    "        root = np.where(np.logical_and(a>=0, a<=1))\n",
    "        return b*root\n",
    "    elif dzeta <= 1+gamma/(b**2):\n",
    "        return 1\n",
    "    else:\n",
    "        return dzeta - gamma/(b**2)\n",
    "    \n",
    "def prox_theta_vec(dzeta, gamma, b):\n",
    "    return np.array([prox_theta(dzeta[i], gamma, b[i]) for i in range(len(b))])"
   ]
  },
  {
   "cell_type": "code",
   "execution_count": null,
   "metadata": {},
   "outputs": [],
   "source": [
    "def prox_star(prox, x, gamma):\n",
    "    return x - gamma*prox(x/gamma)"
   ]
  },
  {
   "cell_type": "code",
   "execution_count": 13,
   "metadata": {},
   "outputs": [
    {
     "name": "stdout",
     "output_type": "stream",
     "text": [
      "Help on function roots in module numpy.lib.polynomial:\n",
      "\n",
      "roots(p)\n",
      "    Return the roots of a polynomial with coefficients given in p.\n",
      "    \n",
      "    The values in the rank-1 array `p` are coefficients of a polynomial.\n",
      "    If the length of `p` is n+1 then the polynomial is described by::\n",
      "    \n",
      "      p[0] * x**n + p[1] * x**(n-1) + ... + p[n-1]*x + p[n]\n",
      "    \n",
      "    Parameters\n",
      "    ----------\n",
      "    p : array_like\n",
      "        Rank-1 array of polynomial coefficients.\n",
      "    \n",
      "    Returns\n",
      "    -------\n",
      "    out : ndarray\n",
      "        An array containing the roots of the polynomial.\n",
      "    \n",
      "    Raises\n",
      "    ------\n",
      "    ValueError\n",
      "        When `p` cannot be converted to a rank-1 array.\n",
      "    \n",
      "    See also\n",
      "    --------\n",
      "    poly : Find the coefficients of a polynomial with a given sequence\n",
      "           of roots.\n",
      "    polyval : Compute polynomial values.\n",
      "    polyfit : Least squares polynomial fit.\n",
      "    poly1d : A one-dimensional polynomial class.\n",
      "    \n",
      "    Notes\n",
      "    -----\n",
      "    The algorithm relies on computing the eigenvalues of the\n",
      "    companion matrix [1]_.\n",
      "    \n",
      "    References\n",
      "    ----------\n",
      "    .. [1] R. A. Horn & C. R. Johnson, *Matrix Analysis*.  Cambridge, UK:\n",
      "        Cambridge University Press, 1999, pp. 146-7.\n",
      "    \n",
      "    Examples\n",
      "    --------\n",
      "    >>> coeff = [3.2, 2, 1]\n",
      "    >>> np.roots(coeff)\n",
      "    array([-0.3125+0.46351241j, -0.3125-0.46351241j])\n",
      "\n"
     ]
    }
   ],
   "source": [
    "def primal_dual(A, tau=1, b, tol=1e-3):\n",
    "    \n",
    "    sigma = 1/np.linalg.norm(A)\n",
    "    tolerance = tol +1\n",
    "    \n",
    "    x_n = np.zeros(A.shape(1))\n",
    "    \n",
    "    while tolerance > tol:\n",
    "        \n",
    "        \n",
    "        x_n1 = projection_simplex(x_n - tau*(A.T@v_n))\n",
    "        v_n1 = prox_star(prox_theta_vec, (x_n - tau*A.T@vn), sigma)\n",
    "        \n",
    "        v_n = v_n\n",
    "        tolerance = np.linalg.norm(x_n1 - x_n1)**2/np.linalg.norm(x_n)**2\n",
    "        x_n = x_n1\n",
    "        v_n = v_n\n",
    "        "
   ]
  },
  {
   "cell_type": "code",
   "execution_count": 18,
   "metadata": {},
   "outputs": [
    {
     "data": {
      "text/plain": [
       "array([2.20556943, 0.67334809, 0.67334809])"
      ]
     },
     "execution_count": 18,
     "metadata": {},
     "output_type": "execute_result"
    }
   ],
   "source": [
    "np.abs(np.roots([1,-2,0,-1]))"
   ]
  },
  {
   "cell_type": "code",
   "execution_count": null,
   "metadata": {},
   "outputs": [],
   "source": []
  }
 ],
 "metadata": {
  "anaconda-cloud": {},
  "kernelspec": {
   "display_name": "Python 3",
   "language": "python",
   "name": "python3"
  },
  "language_info": {
   "codemirror_mode": {
    "name": "ipython",
    "version": 3
   },
   "file_extension": ".py",
   "mimetype": "text/x-python",
   "name": "python",
   "nbconvert_exporter": "python",
   "pygments_lexer": "ipython3",
   "version": "3.5.6"
  }
 },
 "nbformat": 4,
 "nbformat_minor": 2
}
