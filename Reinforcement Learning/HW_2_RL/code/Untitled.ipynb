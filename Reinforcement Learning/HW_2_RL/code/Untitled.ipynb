{
 "cells": [
  {
   "cell_type": "code",
   "execution_count": 3,
   "metadata": {},
   "outputs": [
    {
     "name": "stderr",
     "output_type": "stream",
     "text": [
      "usage: ipykernel_launcher.py [-h] [--environment ENV_CLASS]\n",
      "                             [--agent AGENT_CLASS] [--ngames n] [--niter n]\n",
      "                             [--batch nagent] [--verbose] [--interactive]\n",
      "ipykernel_launcher.py: error: unrecognized arguments: -f /Users/chalvidalm/Library/Jupyter/runtime/kernel-4e965d4d-c923-4736-bb9a-c7380f390654.json\n"
     ]
    },
    {
     "ename": "SystemExit",
     "evalue": "2",
     "output_type": "error",
     "traceback": [
      "An exception has occurred, use %tb to see the full traceback.\n",
      "\u001b[0;31mSystemExit\u001b[0m\u001b[0;31m:\u001b[0m 2\n"
     ]
    }
   ],
   "source": [
    "import argparse\n",
    "import agent\n",
    "import environment\n",
    "import runner\n",
    "import sys\n",
    "\n",
    "# 2to3 compatibility\n",
    "try:\n",
    "    input = raw_input\n",
    "except NameError:\n",
    "    pass\n",
    "\n",
    "parser = argparse.ArgumentParser(description='RL running machine')\n",
    "parser.add_argument('--environment', metavar='ENV_CLASS', type=str, default='Environment', help='Class to use for the environment. Must be in the \\'environment\\' module')\n",
    "parser.add_argument('--agent', metavar='AGENT_CLASS', default='Agent', type=str, help='Class to use for the agent. Must be in the \\'agent\\' module.')\n",
    "parser.add_argument('--ngames', type=int, metavar='n', default='100', help='number of games to simulate')\n",
    "parser.add_argument('--niter', type=int, metavar='n', default='100', help='max number of iterations per game')\n",
    "parser.add_argument('--batch', type=int, metavar='nagent', default=None, help='batch run several agent at the same time')\n",
    "parser.add_argument('--verbose', action='store_true', help='Display cumulative results at each step')\n",
    "parser.add_argument('--interactive', action='store_true', help='After training, play once in interactive mode. Ignored in batch mode.')\n",
    "\n",
    "def main():\n",
    "    args = parser.parse_args()\n",
    "    agent_class = eval('agent.{}'.format(args.agent))\n",
    "    env_class = eval('environment.{}'.format(args.environment))\n",
    "\n",
    "    if args.batch is not None:\n",
    "        print(\"Running a batched simulation with {} agents in parallel...\".format(args.batch))\n",
    "        my_runner = runner.BatchRunner(env_class, agent_class, args.batch, args.verbose)\n",
    "        final_reward = my_runner.loop(args.ngames, args.niter)\n",
    "        print(\"Obtained a final average reward of {}\".format(final_reward))\n",
    "    else:\n",
    "        print(\"Running a single instance simulation...\")\n",
    "        my_runner = runner.Runner(env_class(), agent_class(), args.verbose)\n",
    "        final_reward = my_runner.loop(args.ngames, args.niter)\n",
    "        print(\"Obtained a final reward of {}\".format(final_reward))\n",
    "        if args.interactive:\n",
    "            import pylab as plb\n",
    "            from mountaincarviewer import MountainCarViewer\n",
    "            \n",
    "            # prepare for the visualization\n",
    "            plb.ion()\n",
    "            env = my_runner.environment\n",
    "            a = my_runner.agent\n",
    "            env.reset()\n",
    "            a.reset(env.get_range())\n",
    "            mv = MountainCarViewer(env.mc)\n",
    "            mv.create_figure(args.niter, args.niter)\n",
    "            plb.draw()\n",
    "\n",
    "            \n",
    "            for _ in range(args.niter):\n",
    "                print('\\rt = {}'.format(env.mc.t))\n",
    "                print(\"Enter to continue...\")\n",
    "                input()\n",
    "\n",
    "                sys.stdout.flush()\n",
    "\n",
    "                obs = env.observe()\n",
    "                action = a.act(obs)\n",
    "                (reward, stop) = env.act(action)\n",
    "                a.reward(obs, action, reward)\n",
    "\n",
    "                # update the visualization\n",
    "                mv.update_figure()\n",
    "                plb.draw()\n",
    "\n",
    "                # check for rewards\n",
    "                if stop is not None:\n",
    "                    print(\"\\rTop reached at t = {}\".format(env.mc.t))\n",
    "                    break\n",
    "\n",
    "if __name__ == \"__main__\":\n",
    "    main()"
   ]
  },
  {
   "cell_type": "code",
   "execution_count": 12,
   "metadata": {},
   "outputs": [
    {
     "data": {
      "text/plain": [
       "['Agent',\n",
       " 'RandomAgent',\n",
       " '__builtins__',\n",
       " '__cached__',\n",
       " '__doc__',\n",
       " '__file__',\n",
       " '__loader__',\n",
       " '__name__',\n",
       " '__package__',\n",
       " '__spec__',\n",
       " 'np']"
      ]
     },
     "execution_count": 12,
     "metadata": {},
     "output_type": "execute_result"
    }
   ],
   "source": [
    "dir(agent)"
   ]
  },
  {
   "cell_type": "code",
   "execution_count": 17,
   "metadata": {},
   "outputs": [
    {
     "ename": "TypeError",
     "evalue": "'NoneType' object cannot be interpreted as an integer",
     "output_type": "error",
     "traceback": [
      "\u001b[0;31m---------------------------------------------------------------------------\u001b[0m",
      "\u001b[0;31mTypeError\u001b[0m                                 Traceback (most recent call last)",
      "\u001b[0;32m<ipython-input-17-33a60965b134>\u001b[0m in \u001b[0;36m<module>\u001b[0;34m\u001b[0m\n\u001b[1;32m      2\u001b[0m \u001b[0;32mimport\u001b[0m \u001b[0menvironment\u001b[0m\u001b[0;34m\u001b[0m\u001b[0m\n\u001b[1;32m      3\u001b[0m \u001b[0;34m\u001b[0m\u001b[0m\n\u001b[0;32m----> 4\u001b[0;31m \u001b[0mmy_runner\u001b[0m \u001b[0;34m=\u001b[0m \u001b[0mrunner\u001b[0m\u001b[0;34m.\u001b[0m\u001b[0mBatchRunner\u001b[0m\u001b[0;34m(\u001b[0m\u001b[0menvironment\u001b[0m\u001b[0;34m.\u001b[0m\u001b[0mEnvironment\u001b[0m\u001b[0;34m,\u001b[0m \u001b[0magent\u001b[0m\u001b[0;34m.\u001b[0m\u001b[0mAgent\u001b[0m \u001b[0;34m,\u001b[0m\u001b[0;32mNone\u001b[0m\u001b[0;34m,\u001b[0m \u001b[0;32mTrue\u001b[0m\u001b[0;34m)\u001b[0m\u001b[0;34m\u001b[0m\u001b[0m\n\u001b[0m\u001b[1;32m      5\u001b[0m \u001b[0;34m\u001b[0m\u001b[0m\n\u001b[1;32m      6\u001b[0m \u001b[0;32mimport\u001b[0m \u001b[0mpylab\u001b[0m \u001b[0;32mas\u001b[0m \u001b[0mplb\u001b[0m\u001b[0;34m\u001b[0m\u001b[0m\n",
      "\u001b[0;32m~/Documents/3A OMA/Reinforcement learning/HW_2_RL/code/runner.py\u001b[0m in \u001b[0;36m__init__\u001b[0;34m(self, env_maker, agent_maker, count, verbose)\u001b[0m\n\u001b[1;32m     59\u001b[0m \u001b[0;34m\u001b[0m\u001b[0m\n\u001b[1;32m     60\u001b[0m     \u001b[0;32mdef\u001b[0m \u001b[0m__init__\u001b[0m\u001b[0;34m(\u001b[0m\u001b[0mself\u001b[0m\u001b[0;34m,\u001b[0m \u001b[0menv_maker\u001b[0m\u001b[0;34m,\u001b[0m \u001b[0magent_maker\u001b[0m\u001b[0;34m,\u001b[0m \u001b[0mcount\u001b[0m\u001b[0;34m,\u001b[0m \u001b[0mverbose\u001b[0m\u001b[0;34m=\u001b[0m\u001b[0;32mFalse\u001b[0m\u001b[0;34m)\u001b[0m\u001b[0;34m:\u001b[0m\u001b[0;34m\u001b[0m\u001b[0m\n\u001b[0;32m---> 61\u001b[0;31m         \u001b[0mself\u001b[0m\u001b[0;34m.\u001b[0m\u001b[0menvironments\u001b[0m \u001b[0;34m=\u001b[0m \u001b[0miter_or_loopcall\u001b[0m\u001b[0;34m(\u001b[0m\u001b[0menv_maker\u001b[0m\u001b[0;34m,\u001b[0m \u001b[0mcount\u001b[0m\u001b[0;34m)\u001b[0m\u001b[0;34m\u001b[0m\u001b[0m\n\u001b[0m\u001b[1;32m     62\u001b[0m         \u001b[0mself\u001b[0m\u001b[0;34m.\u001b[0m\u001b[0magents\u001b[0m \u001b[0;34m=\u001b[0m \u001b[0miter_or_loopcall\u001b[0m\u001b[0;34m(\u001b[0m\u001b[0magent_maker\u001b[0m\u001b[0;34m,\u001b[0m \u001b[0mcount\u001b[0m\u001b[0;34m)\u001b[0m\u001b[0;34m\u001b[0m\u001b[0m\n\u001b[1;32m     63\u001b[0m         \u001b[0;32massert\u001b[0m\u001b[0;34m(\u001b[0m\u001b[0mlen\u001b[0m\u001b[0;34m(\u001b[0m\u001b[0mself\u001b[0m\u001b[0;34m.\u001b[0m\u001b[0magents\u001b[0m\u001b[0;34m)\u001b[0m \u001b[0;34m==\u001b[0m \u001b[0mlen\u001b[0m\u001b[0;34m(\u001b[0m\u001b[0mself\u001b[0m\u001b[0;34m.\u001b[0m\u001b[0menvironments\u001b[0m\u001b[0;34m)\u001b[0m\u001b[0;34m)\u001b[0m\u001b[0;34m\u001b[0m\u001b[0m\n",
      "\u001b[0;32m~/Documents/3A OMA/Reinforcement learning/HW_2_RL/code/runner.py\u001b[0m in \u001b[0;36miter_or_loopcall\u001b[0;34m(o, count)\u001b[0m\n\u001b[1;32m     47\u001b[0m \u001b[0;32mdef\u001b[0m \u001b[0miter_or_loopcall\u001b[0m\u001b[0;34m(\u001b[0m\u001b[0mo\u001b[0m\u001b[0;34m,\u001b[0m \u001b[0mcount\u001b[0m\u001b[0;34m)\u001b[0m\u001b[0;34m:\u001b[0m\u001b[0;34m\u001b[0m\u001b[0m\n\u001b[1;32m     48\u001b[0m     \u001b[0;32mif\u001b[0m \u001b[0mcallable\u001b[0m\u001b[0;34m(\u001b[0m\u001b[0mo\u001b[0m\u001b[0;34m)\u001b[0m\u001b[0;34m:\u001b[0m\u001b[0;34m\u001b[0m\u001b[0m\n\u001b[0;32m---> 49\u001b[0;31m         \u001b[0;32mreturn\u001b[0m \u001b[0;34m[\u001b[0m \u001b[0mo\u001b[0m\u001b[0;34m(\u001b[0m\u001b[0;34m)\u001b[0m \u001b[0;32mfor\u001b[0m \u001b[0m_\u001b[0m \u001b[0;32min\u001b[0m \u001b[0mrange\u001b[0m\u001b[0;34m(\u001b[0m\u001b[0mcount\u001b[0m\u001b[0;34m)\u001b[0m \u001b[0;34m]\u001b[0m\u001b[0;34m\u001b[0m\u001b[0m\n\u001b[0m\u001b[1;32m     50\u001b[0m     \u001b[0;32melse\u001b[0m\u001b[0;34m:\u001b[0m\u001b[0;34m\u001b[0m\u001b[0m\n\u001b[1;32m     51\u001b[0m         \u001b[0;31m# must be iterable\u001b[0m\u001b[0;34m\u001b[0m\u001b[0;34m\u001b[0m\u001b[0m\n",
      "\u001b[0;31mTypeError\u001b[0m: 'NoneType' object cannot be interpreted as an integer"
     ]
    }
   ],
   "source": [
    "import agent\n",
    "import environment\n",
    "\n",
    "my_runner = runner.BatchRunner(environment.Environment, agent.Agent,None, True)\n",
    "\n",
    "import pylab as plb\n",
    "from mountaincarviewer import MountainCarViewer\n",
    "\n",
    "# prepare for the visualization\n",
    "plb.ion()\n",
    "env = my_runner.environment\n",
    "a = my_runner.agent\n",
    "env.reset()\n",
    "a.reset(env.get_range())\n",
    "mv = MountainCarViewer(env.mc)\n",
    "mv.create_figure(args.niter, args.niter)\n",
    "plb.draw()"
   ]
  },
  {
   "cell_type": "code",
   "execution_count": null,
   "metadata": {},
   "outputs": [],
   "source": []
  }
 ],
 "metadata": {
  "anaconda-cloud": {},
  "kernelspec": {
   "display_name": "Python 3",
   "language": "python",
   "name": "python3"
  },
  "language_info": {
   "codemirror_mode": {
    "name": "ipython",
    "version": 3
   },
   "file_extension": ".py",
   "mimetype": "text/x-python",
   "name": "python",
   "nbconvert_exporter": "python",
   "pygments_lexer": "ipython3",
   "version": "3.5.6"
  }
 },
 "nbformat": 4,
 "nbformat_minor": 2
}
